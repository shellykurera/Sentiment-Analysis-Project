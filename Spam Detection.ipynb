{
 "cells": [
  {
   "cell_type": "code",
   "execution_count": 1,
   "metadata": {
    "pycharm": {
     "is_executing": false
    }
   },
   "outputs": [],
   "source": [
    "# Author: Shelly Hashali Kurera Warnakulasooriya (17043308)\n",
    "# Created: 31/01/2020\n",
    "# Revised: 04/04/2020\n",
    "# Description: Detection of deception using Sentiment Analysis. The dataset was retrieved from Kaggle and is based on Amazon manufactured products.\n",
    "# Coding: UTF-8"
   ]
  },
  {
   "cell_type": "markdown",
   "source": [
    "# 1 Detection of inauthentic content using Sentiment Analysis on product reviews"
   ],
   "metadata": {
    "collapsed": false,
    "pycharm": {
     "name": "#%% md\n"
    }
   }
  },
  {
   "cell_type": "code",
   "execution_count": 2,
   "outputs": [],
   "source": [
    "# Importing the libraries needed\n",
    "import csv                               \n",
    "from sklearn.svm import LinearSVC\n",
    "from nltk.classify import SklearnClassifier\n",
    "from random import shuffle\n",
    "from sklearn.pipeline import Pipeline\n",
    "from sklearn.metrics import precision_recall_fscore_support\n",
    "from sklearn.metrics import accuracy_score\n",
    "import numpy as np\n",
    "import nltk\n",
    "from nltk.tokenize import word_tokenize"
   ],
   "metadata": {
    "collapsed": false,
    "pycharm": {
     "name": "#%%\n",
     "is_executing": false
    }
   }
  },
  {
   "cell_type": "code",
   "execution_count": 3,
   "metadata": {
    "collapsed": true,
    "pycharm": {
     "is_executing": false
    }
   },
   "outputs": [],
   "source": [
    "# Function: Loading data from the text file\n",
    "def loadData(path, Text=None):\n",
    "    with open(path, encoding='utf8') as f:\n",
    "        reader = csv.reader(f, delimiter='\\t')\n",
    "        next(reader)\n",
    "        for line in reader:\n",
    "            (Id, Text, Label) = parseReview(line)\n",
    "            rawData.append((Id, Text, Label))\n",
    "            preprocessedData.append((Id, preProcess(Text), Label))\n",
    "            \n",
    "# Function: Splitting into training and testing set\n",
    "def splitData(percentage):\n",
    "    dataSamples = len(rawData)\n",
    "    halfOfData = int(len(rawData)/2)\n",
    "    trainingSamples = int((percentage*dataSamples)/2)\n",
    "    for (_, Text, Label) in rawData[:trainingSamples] + rawData[halfOfData:halfOfData+trainingSamples]:\n",
    "        trainData.append((toFeatureVector(preProcess(Text)),Label))\n",
    "    for (_, Text, Label) in rawData[trainingSamples:halfOfData] + rawData[halfOfData+trainingSamples:]:\n",
    "        testData.append((toFeatureVector(preProcess(Text)),Label))"
   ]
  },
  {
   "cell_type": "code",
   "execution_count": 4,
   "metadata": {
    "collapsed": true,
    "pycharm": {
     "is_executing": false
    }
   },
   "outputs": [],
   "source": [
    "# Function: Converting line from input file, returns a string containing the review itself and the string indicating the label\n",
    "def parseReview(reviewLine):\n",
    "    s=\"\"\n",
    "    if reviewLine[1]==\"__label1__\":\n",
    "        s = \"fake\"\n",
    "    else: \n",
    "        s = \"real\"\n",
    "    return (reviewLine[0], reviewLine[8], s)\n"
   ]
  },
  {
   "cell_type": "code",
   "execution_count": 5,
   "metadata": {
    "collapsed": true,
    "pycharm": {
     "is_executing": false
    }
   },
   "outputs": [],
   "source": [
    "# Function: Tokenizing words of a review (text pre-processing)\n",
    "def preProcess(text):\n",
    "    # Should return a list of tokens\n",
    "    return word_tokenize(text)"
   ]
  },
  {
   "cell_type": "code",
   "execution_count": 6,
   "metadata": {
    "collapsed": true,
    "pycharm": {
     "is_executing": false
    }
   },
   "outputs": [],
   "source": [
    "# Global dictionary of features\n",
    "featureDict = {}\n",
    "\n",
    "# Function: Feature Vectorization\n",
    "def toFeatureVector(tokens):\n",
    "    localDict = {}\n",
    "    for token in tokens:\n",
    "        if token not in featureDict:\n",
    "            featureDict[token] = 1\n",
    "        else:\n",
    "            featureDict[token] = +1\n",
    "   \n",
    "        if token not in localDict:\n",
    "            localDict[token] = 1\n",
    "        else:\n",
    "            localDict[token] = +1\n",
    "    \n",
    "    return localDict"
   ]
  },
  {
   "cell_type": "code",
   "execution_count": 7,
   "metadata": {
    "collapsed": true,
    "pycharm": {
     "is_executing": false
    }
   },
   "outputs": [],
   "source": [
    "# Function: Training and validating classifier\n",
    "def trainClassifier(trainData):\n",
    "    pipeline =  Pipeline([('svc', LinearSVC())])\n",
    "    return SklearnClassifier(pipeline).train(trainData)"
   ]
  },
  {
   "cell_type": "code",
   "execution_count": 8,
   "metadata": {
    "collapsed": true,
    "pycharm": {
     "is_executing": false
    }
   },
   "outputs": [],
   "source": [
    "# Function: Crossvalidating\n",
    "def crossValidate(dataset, folds):\n",
    "    shuffle(dataset)\n",
    "    cv_results = []\n",
    "    foldSize = int(len(dataset)/folds)\n",
    "    for i in range(0,len(dataset),foldSize):\n",
    "        classifier = trainClassifier(dataset[:i]+dataset[foldSize+i:])\n",
    "        y_pred = predictLabels(dataset[i:i+foldSize],classifier)\n",
    "        a = accuracy_score(list(map(lambda d : d[1], dataset[i:i+foldSize])), y_pred)\n",
    "        (p,r,f,_) = precision_recall_fscore_support(list(map(lambda d : d[1], dataset[i:i+foldSize])), y_pred, average ='macro')\n",
    "        cv_results.append((a,p,r,f))\n",
    "    cv_results = (np.mean(np.array(cv_results),axis=0))\n",
    "    return cv_results"
   ]
  },
  {
   "cell_type": "code",
   "execution_count": 9,
   "metadata": {
    "collapsed": true,
    "pycharm": {
     "is_executing": false
    }
   },
   "outputs": [],
   "source": [
    "# Function: Predicting labels given a classifier\n",
    "def predictLabels(reviewSamples, classifier):\n",
    "    return classifier.classify_many(map(lambda t: t[0], reviewSamples))\n",
    "\n",
    "def predictLabel(reviewSample, classifier):\n",
    "    return classifier.classify(toFeatureVector(preProcess(reviewSample)))"
   ]
  },
  {
   "cell_type": "markdown",
   "source": [
    "# Initial assessment"
   ],
   "metadata": {
    "collapsed": false
   }
  },
  {
   "cell_type": "code",
   "metadata": {
    "pycharm": {
     "is_executing": false,
     "name": "#%%\n"
    }
   },
   "source": [
    "rawData = []          # The filtered data from the dataset file \n",
    "preprocessedData = [] # The pre-processed reviews \n",
    "trainData = []        # The training data as a percentage of the total dataset \n",
    "testData = []         # The test data as a percentage of the total dataset\n",
    "\n",
    "# Output classes\n",
    "fakeLabel = 'fake'\n",
    "realLabel = 'real'\n",
    "\n",
    "# Reference path to the text file containing the dataset\n",
    "reviewPath = 'amazon_reviews.txt'\n",
    "\n",
    "# Loading the data into a raw dataset\n",
    "loadData(reviewPath) \n",
    "\n",
    "# Splitting the raw dataset into training and testing datasets, respectively 80% and 20%\n",
    "print(\"Size of %d training set and %d testing set\" % (len(trainData), len(testData)),sep='\\n')\n",
    "splitData(0.8) \n",
    "# Printing the training and testing dataset sizes, and the number of features for the training set\n",
    "print(\"Size of %d training set and %d testing set\" % (len(trainData), len(testData)),\n",
    "      \"Training Samples: \", len(trainData), \" Number of features: \", len(featureDict), sep='\\n')\n",
    "print(\"Mean of cross-validations (Accuracy, Precision, Recall, F-score): \", crossValidate(trainData, 10))"
   ],
   "execution_count": 10,
   "outputs": [
    {
     "name": "stdout",
     "text": [
      "Size of 0 training set and 0 testing set\n",
      "Size of 16800 training set and 4200 testing set\n",
      "Training Samples: \n",
      "16800\n",
      " Number of features: \n",
      "52962\n",
      "Mean of cross-validations (Accuracy, Precision, Recall, F-score):  [0.61857143 0.61865055 0.61855507 0.61828425]\n"
     ],
     "output_type": "stream"
    },
    {
     "name": "stderr",
     "text": [
      "c:\\users\\shelly\\eleventh\\lib\\site-packages\\sklearn\\svm\\_base.py:947: ConvergenceWarning: Liblinear failed to converge, increase the number of iterations.\n",
      "  \"the number of iterations.\", ConvergenceWarning)\n"
     ],
     "output_type": "stream"
    }
   ]
  },
  {
   "cell_type": "markdown",
   "metadata": {},
   "source": [
    "# Assessment introducing lemmatization, stop words removal and punctuations"
   ]
  },
  {
   "cell_type": "code",
   "execution_count": 11,
   "metadata": {
    "collapsed": true,
    "pycharm": {
     "is_executing": false
    }
   },
   "outputs": [],
   "source": [
    "from nltk.corpus import stopwords\n",
    "from nltk.stem import WordNetLemmatizer\n",
    "import string"
   ]
  },
  {
   "cell_type": "code",
   "execution_count": 12,
   "metadata": {
    "collapsed": true,
    "pycharm": {
     "is_executing": false
    }
   },
   "outputs": [],
   "source": [
    "table = str.maketrans({key: None for key in string.punctuation})\n",
    "\n",
    "# Function: Text pre-processing using lemmatization, stop words removal and punctuations, returns a list of tokens\n",
    "def preProcess(text):\n",
    "    lemmatizer = WordNetLemmatizer()\n",
    "    filtered_tokens=[]\n",
    "    stop_words = set(stopwords.words('english'))\n",
    "    text = text.translate(table)\n",
    "    for w in text.split(\" \"):\n",
    "        if w not in stop_words:\n",
    "            filtered_tokens.append(lemmatizer.lemmatize(w.lower()))\n",
    "    return filtered_tokens"
   ]
  },
  {
   "cell_type": "code",
   "execution_count": 13,
   "metadata": {
    "pycharm": {
     "is_executing": false
    }
   },
   "outputs": [
    {
     "name": "stdout",
     "text": [
      "Size of 0 training set and 0 testing set\n",
      "Size of 16800 training set and 4200 testing set\n",
      "Training Samples: \n",
      "16800\n",
      " Number of features: \n",
      "73058\n",
      "Mean of cross-validations (Accuracy, Precision, Recall, F-score):  [0.62809524 0.62796188 0.62773024 0.62757104]\n"
     ],
     "output_type": "stream"
    }
   ],
   "source": [
    "rawData = []          # The filtered data from the dataset file \n",
    "preprocessedData = [] # The pre-processed reviews \n",
    "trainData = []        # The training data as a percentage of the total dataset \n",
    "testData = []         # The test data as a percentage of the total dataset\n",
    "\n",
    "# Output classes\n",
    "fakeLabel = 'fake'\n",
    "realLabel = 'real'\n",
    "\n",
    "# Reference path to the text file containing the dataset\n",
    "reviewPath = 'amazon_reviews.txt'\n",
    "\n",
    "# Loading the data into a raw dataset\n",
    "loadData(reviewPath) \n",
    "\n",
    "# Splitting the raw dataset into training and testing datasets, respectively 80% and 20%\n",
    "print(\"Size of %d training set and %d testing set\" % (len(trainData), len(testData)),sep='\\n')\n",
    "splitData(0.8) \n",
    "# Printing the training and testing dataset sizes, and the number of features for the training set\n",
    "print(\"Size of %d training set and %d testing set\" % (len(trainData), len(testData)),\n",
    "      \"Training Samples: \", len(trainData), \" Number of features: \", len(featureDict), sep='\\n')\n",
    "print(\"Mean of cross-validations (Accuracy, Precision, Recall, F-score): \", crossValidate(trainData, 10))"
   ]
  },
  {
   "cell_type": "markdown",
   "metadata": {},
   "source": [
    "# Assessment introducing bi-grams and utilising different values for C in the Linear SVC Function "
   ]
  },
  {
   "cell_type": "code",
   "execution_count": 14,
   "metadata": {
    "collapsed": true,
    "pycharm": {
     "is_executing": false
    }
   },
   "outputs": [],
   "source": [
    "table = str.maketrans({key: None for key in string.punctuation})\n",
    "\n",
    "# Function: Text pre-processing using lemmatization, stop words removal, punctuations and bi-grams, returns a list of tokens\n",
    "def preProcess(text):\n",
    "    lemmatizer = WordNetLemmatizer()\n",
    "    filtered_tokens=[]\n",
    "    lemmatized_tokens = []\n",
    "    stop_words = set(stopwords.words('english'))\n",
    "    text = text.translate(table)\n",
    "    for w in text.split(\" \"):\n",
    "        if w not in stop_words:\n",
    "            lemmatized_tokens.append(lemmatizer.lemmatize(w.lower()))\n",
    "        filtered_tokens = [' '.join(l) for l in nltk.bigrams(lemmatized_tokens)] + lemmatized_tokens\n",
    "    return filtered_tokens"
   ]
  },
  {
   "cell_type": "code",
   "execution_count": 15,
   "metadata": {
    "collapsed": true,
    "pycharm": {
     "is_executing": false
    }
   },
   "outputs": [],
   "source": [
    "# Function: Training and validating classifier\n",
    "def trainClassifier(trainData):\n",
    "    pipeline =  Pipeline([('svc', LinearSVC(C=0.01))])\n",
    "    return SklearnClassifier(pipeline).train(trainData)"
   ]
  },
  {
   "cell_type": "code",
   "execution_count": 16,
   "metadata": {
    "pycharm": {
     "is_executing": false
    }
   },
   "outputs": [
    {
     "name": "stdout",
     "text": [
      "Size of 0 training set and 0 testing set\n",
      "Size of 16800 training set and 4200 testing set\n",
      "Training Samples: \n",
      "16800\n",
      " Number of features: \n",
      "542871\n",
      "Mean of cross-validations (Accuracy, Precision, Recall, F-score):  [0.69232143 0.69386122 0.69240455 0.69167888]\n"
     ],
     "output_type": "stream"
    }
   ],
   "source": [
    "rawData = []          # The filtered data from the dataset file \n",
    "preprocessedData = [] # The pre-processed reviews \n",
    "trainData = []        # The training data as a percentage of the total dataset \n",
    "testData = []         # The test data as a percentage of the total dataset\n",
    "\n",
    "# Output classes\n",
    "fakeLabel = 'fake'\n",
    "realLabel = 'real'\n",
    "\n",
    "# Reference path to the text file containing the dataset\n",
    "reviewPath = 'amazon_reviews.txt'\n",
    "\n",
    "# Loading the data into a raw dataset\n",
    "loadData(reviewPath) \n",
    "\n",
    "# Splitting the raw dataset into training and testing datasets, respectively 80% and 20%\n",
    "print(\"Size of %d training set and %d testing set\" % (len(trainData), len(testData)),sep='\\n')\n",
    "splitData(0.8) \n",
    "# Printing the training and testing dataset sizes, and the number of features for the training set\n",
    "print(\"Size of %d training set and %d testing set\" % (len(trainData), len(testData)),\n",
    "      \"Training Samples: \", len(trainData), \" Number of features: \", len(featureDict), sep='\\n')\n",
    "print(\"Mean of cross-validations (Accuracy, Precision, Recall, F-score): \", crossValidate(trainData, 10))"
   ]
  },
  {
   "cell_type": "markdown",
   "metadata": {},
   "source": [
    "# Assessment taking into consideration different features such as rating, verified purchase and product category"
   ]
  },
  {
   "cell_type": "code",
   "execution_count": 17,
   "metadata": {
    "collapsed": true,
    "pycharm": {
     "is_executing": false
    }
   },
   "outputs": [],
   "source": [
    "# Function: Loading data from the text file (considering the different columns)\n",
    "def loadData(path, Text=None):\n",
    "    with open(path, encoding='utf8') as f:\n",
    "        reader = csv.reader(f, delimiter='\\t')\n",
    "        next(reader)\n",
    "        for line in reader:\n",
    "            (Id, Rating, verified_Purchase, product_Category, Text, Label) = parseReview(line)\n",
    "            rawData.append((Id, Rating, verified_Purchase, product_Category, Text, Label))\n",
    "        \n",
    "# Function: Splitting \n",
    "def splitData(percentage):\n",
    "    dataSamples = len(rawData)\n",
    "    halfOfData = int(len(rawData)/2)\n",
    "    trainingSamples = int((percentage*dataSamples)/2)\n",
    "    for (_, Rating, verified_Purchase, product_Category, Text, Label) in rawData[:trainingSamples] + rawData[halfOfData:halfOfData+trainingSamples]:\n",
    "        trainData.append((toFeatureVector(Rating, verified_Purchase, product_Category, preProcess(Text)),Label))\n",
    "    for (_, Rating, verified_Purchase, product_Category, Text, Label) in rawData[trainingSamples:halfOfData] + rawData[halfOfData+trainingSamples:]:\n",
    "        testData.append((toFeatureVector(Rating, verified_Purchase, product_Category, preProcess(Text)),Label))"
   ]
  },
  {
   "cell_type": "code",
   "execution_count": 18,
   "metadata": {
    "collapsed": true,
    "pycharm": {
     "is_executing": false
    }
   },
   "outputs": [],
   "source": [
    "# Function: Converting line from input file, identifies label and returns the different columns and the class\n",
    "def parseReview(reviewLine):\n",
    "    s=\"\"\n",
    "    if reviewLine[1]==\"__label1__\":\n",
    "        s = \"fake\"\n",
    "    else: \n",
    "        s = \"real\"\n",
    "    return (reviewLine[0], reviewLine[2], reviewLine[3],reviewLine[4], reviewLine[8], s)\n"
   ]
  },
  {
   "cell_type": "code",
   "execution_count": 19,
   "metadata": {
    "collapsed": true,
    "pycharm": {
     "is_executing": false
    }
   },
   "outputs": [],
   "source": [
    "table = str.maketrans({key: None for key in string.punctuation})\n",
    "\n",
    "# Function: Text pre-processing using lemmatization, stop words removal, punctuations and bi-grams, returns a list of tokens\n",
    "def preProcess(text):\n",
    "    # Should return a list of tokens\n",
    "    lemmatizer = WordNetLemmatizer()\n",
    "    filtered_tokens=[]\n",
    "    lemmatized_tokens = []\n",
    "    stop_words = set(stopwords.words('english'))\n",
    "    text = text.translate(table)\n",
    "    for w in text.split(\" \"):\n",
    "        if w not in stop_words:\n",
    "            lemmatized_tokens.append(lemmatizer.lemmatize(w.lower()))\n",
    "        filtered_tokens = [' '.join(l) for l in nltk.bigrams(lemmatized_tokens)] + lemmatized_tokens\n",
    "    return filtered_tokens"
   ]
  },
  {
   "cell_type": "code",
   "execution_count": 20,
   "metadata": {
    "collapsed": true,
    "pycharm": {
     "is_executing": false
    }
   },
   "outputs": [],
   "source": [
    "# Function: Feature Vectorization considering rating, verified purchase, category and text\n",
    "featureDict = {} # Global dictionary of features\n",
    "\n",
    "def toFeatureVector(Rating, verified_Purchase, product_Category, tokens):\n",
    "    localDict = {}\n",
    "    \n",
    "#Rating\n",
    "    featureDict[\"R\"] = 1   \n",
    "    localDict[\"R\"] = Rating\n",
    "\n",
    "#Verified_Purchase \n",
    "    featureDict[\"VP\"] = 1      \n",
    "    if verified_Purchase == \"N\":\n",
    "        localDict[\"VP\"] = 0\n",
    "    else:\n",
    "        localDict[\"VP\"] = 1\n",
    "\n",
    "#Product_Category \n",
    "    if product_Category not in featureDict:\n",
    "        featureDict[product_Category] = 1\n",
    "    else:\n",
    "        featureDict[product_Category] = +1\n",
    "            \n",
    "    if product_Category not in localDict:\n",
    "        localDict[product_Category] = 1\n",
    "    else:\n",
    "        localDict[product_Category] = +1         \n",
    "#Text        \n",
    "    for token in tokens:\n",
    "        if token not in featureDict:\n",
    "            featureDict[token] = 1\n",
    "        else:\n",
    "            featureDict[token] = +1\n",
    "            \n",
    "        if token not in localDict:\n",
    "            localDict[token] = 1\n",
    "        else:\n",
    "            localDict[token] = +1\n",
    "    \n",
    "    return localDict"
   ]
  },
  {
   "cell_type": "code",
   "execution_count": 21,
   "metadata": {
    "pycharm": {
     "is_executing": false
    }
   },
   "outputs": [
    {
     "name": "stdout",
     "text": [
      "Size of 0 training set and 0 testing set\n",
      "Size of 16800 training set and 4200 testing set\n",
      "Training Samples: \n",
      "16800\n",
      " Number of features: \n",
      "512245\n",
      "Mean of cross-validations (Accuracy, Precision, Recall, F-score):  [0.81934524 0.82037159 0.81932087 0.81911599]\n"
     ],
     "output_type": "stream"
    }
   ],
   "source": [
    "rawData = []          # The filtered data from the dataset file \n",
    "preprocessedData = [] # The pre-processed reviews \n",
    "trainData = []        # The training data as a percentage of the total dataset \n",
    "testData = []         # The test data as a percentage of the total dataset\n",
    "\n",
    "# Output classes\n",
    "fakeLabel = 'fake'\n",
    "realLabel = 'real'\n",
    "\n",
    "# Reference path to the text file containing the dataset\n",
    "reviewPath = 'amazon_reviews.txt'\n",
    "\n",
    "# Loading the data into a raw dataset\n",
    "loadData(reviewPath) \n",
    "\n",
    "# Splitting the raw dataset into training and testing datasets, respectively 80% and 20%\n",
    "print(\"Size of %d training set and %d testing set\" % (len(trainData), len(testData)),sep='\\n')\n",
    "splitData(0.8) \n",
    "# Printing the training and testing dataset sizes, and the number of features for the training set\n",
    "print(\"Size of %d training set and %d testing set\" % (len(trainData), len(testData)),\n",
    "      \"Training Samples: \", len(trainData), \" Number of features: \", len(featureDict), sep='\\n')\n",
    "print(\"Mean of cross-validations (Accuracy, Precision, Recall, F-score): \", crossValidate(trainData, 10))"
   ]
  },
  {
   "cell_type": "markdown",
   "source": [
    "# Testing on final classifier"
   ],
   "metadata": {
    "collapsed": false
   }
  },
  {
   "cell_type": "code",
   "execution_count": 22,
   "metadata": {
    "pycharm": {
     "is_executing": false
    }
   },
   "outputs": [
    {
     "name": "stdout",
     "text": [
      "Accuracy:  0.8042857142857143\n",
      "Precision:  0.8080454049606811\n",
      "Recall:  0.8042857142857143\n",
      "F1-score:  0.8036867139280308\n"
     ],
     "output_type": "stream"
    }
   ],
   "source": [
    "#  Testing classifier\n",
    "classifier = trainClassifier(trainData)\n",
    "predictions = predictLabels(testData, classifier)\n",
    "true_labels = list(map(lambda d: d[1], testData))\n",
    "a = accuracy_score(true_labels, predictions)\n",
    "p, r, f1, _ = precision_recall_fscore_support(true_labels, predictions, average='macro')\n",
    "print(\"Accuracy: \", a)\n",
    "print(\"Precision: \", p)\n",
    "print(\"Recall: \", a)\n",
    "print(\"F1-score: \", f1)"
   ]
  }
 ],
 "metadata": {
  "kernelspec": {
   "display_name": "Python 3",
   "language": "python",
   "name": "python3"
  },
  "language_info": {
   "codemirror_mode": {
    "name": "ipython",
    "version": 3
   },
   "file_extension": ".py",
   "mimetype": "text/x-python",
   "name": "python",
   "nbconvert_exporter": "python",
   "pygments_lexer": "ipython3",
   "version": "3.7.7"
  },
  "pycharm": {
   "stem_cell": {
    "cell_type": "raw",
    "source": [],
    "metadata": {
     "collapsed": false
    }
   }
  }
 },
 "nbformat": 4,
 "nbformat_minor": 2
}