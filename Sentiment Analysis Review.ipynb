{
 "cells": [
  {
   "cell_type": "code",
   "metadata": {
    "heading_collapsed": true,
    "pycharm": {
     "name": "#%% \n",
     "is_executing": false
    }
   },
   "source": [
    "# Author: Shelly Hashali Kurera Warnakulasooriya (17043308)\n",
    "# Created: 31/01/2020\n",
    "# Revised: 04/04/2020\n",
    "# Description: Application of Sentiment Analysis for Product Reviews. The dataset was retrieved from Kaggle and is based on Amazon manufactured products.\n",
    "# Link to view the dataset used to build the model: https://www.kaggle.com/datafiniti/consumer-reviews-of-amazon-products\n",
    "# Coding: UTF-8"
   ],
   "execution_count": 44,
   "outputs": []
  },
  {
   "cell_type": "markdown",
   "metadata": {
    "hidden": true
   },
   "source": [
    "# 1 Application of Sentiment Analysis on product reviews\n",
    "As the number of products being sold online increases, it is becoming progressively difficult for customers to make \n",
    "purchasing decisions. Furthermore, everyday millions of reviews are generated in the Internet. Sentiment analysis allows \n",
    "to process the information efficiently and cost-effectively. This application will apply Sentiment Analysis techniques \n",
    "to identify and extract information from reviews in order to provide insights on how customers feel about products and/or services. \n",
    "This key data can be used to provide a more reliable insight on the quality of the product and customer satisfaction, \n",
    "moreover it could be utilized to develop innovative ideas for new product designs and enhancements with more appealing \n",
    "requirements from the consumer viewpoint.\n",
    "\n",
    "Questions:\n",
    "- Does the frequency of reviews on a product detect its quality, whether it is superior or mediocre compares to its competitors?\n",
    "- **Is it possible to associate positive and negative words/sentiments for each product in the catalog?**\n",
    "- By implementing Sentiment analysis, is it feasible to predict scores for reviews based on the presence of specific words?\n",
    "\n",
    "Assumptions made throughout the implementation:\n",
    "- A dataset size of around 30K examples has been considered adequate to represent the entire population of reviews.\n",
    "- The content presented in the text reviews of each product has been considered to be prolific to train a sentiment analysis classifier with an accuracy over 80%."
   ]
  },
  {
   "cell_type": "markdown",
   "metadata": {
    "heading_collapsed": true
   },
   "source": [
    "# 2 Insight on the raw data retrieved"
   ]
  },
  {
   "cell_type": "code",
   "execution_count": 45,
   "metadata": {
    "hidden": true,
    "pycharm": {
     "is_executing": false
    }
   },
   "outputs": [
    {
     "data": {
      "text/plain": "                     id                                               name  \\\n0  AVqkIhwDv8e3D1O-lebb  All-New Fire HD 8 Tablet, 8 HD Display, Wi-Fi,...   \n1  AVqkIhwDv8e3D1O-lebb  All-New Fire HD 8 Tablet, 8 HD Display, Wi-Fi,...   \n2  AVqkIhwDv8e3D1O-lebb  All-New Fire HD 8 Tablet, 8 HD Display, Wi-Fi,...   \n3  AVqkIhwDv8e3D1O-lebb  All-New Fire HD 8 Tablet, 8 HD Display, Wi-Fi,...   \n4  AVqkIhwDv8e3D1O-lebb  All-New Fire HD 8 Tablet, 8 HD Display, Wi-Fi,...   \n\n        asins   brand                                         categories  \\\n0  B01AHB9CN2  Amazon  Electronics,iPad & Tablets,All Tablets,Fire Ta...   \n1  B01AHB9CN2  Amazon  Electronics,iPad & Tablets,All Tablets,Fire Ta...   \n2  B01AHB9CN2  Amazon  Electronics,iPad & Tablets,All Tablets,Fire Ta...   \n3  B01AHB9CN2  Amazon  Electronics,iPad & Tablets,All Tablets,Fire Ta...   \n4  B01AHB9CN2  Amazon  Electronics,iPad & Tablets,All Tablets,Fire Ta...   \n\n                                                keys manufacturer  \\\n0  841667104676,amazon/53004484,amazon/b01ahb9cn2...       Amazon   \n1  841667104676,amazon/53004484,amazon/b01ahb9cn2...       Amazon   \n2  841667104676,amazon/53004484,amazon/b01ahb9cn2...       Amazon   \n3  841667104676,amazon/53004484,amazon/b01ahb9cn2...       Amazon   \n4  841667104676,amazon/53004484,amazon/b01ahb9cn2...       Amazon   \n\n               reviews.date     reviews.dateAdded  \\\n0  2017-01-13T00:00:00.000Z  2017-07-03T23:33:15Z   \n1  2017-01-13T00:00:00.000Z  2017-07-03T23:33:15Z   \n2  2017-01-13T00:00:00.000Z  2017-07-03T23:33:15Z   \n3  2017-01-13T00:00:00.000Z  2017-07-03T23:33:15Z   \n4  2017-01-12T00:00:00.000Z  2017-07-03T23:33:15Z   \n\n                                    reviews.dateSeen  ... reviews.doRecommend  \\\n0  2017-06-07T09:04:00.000Z,2017-04-30T00:45:00.000Z  ...                True   \n1  2017-06-07T09:04:00.000Z,2017-04-30T00:45:00.000Z  ...                True   \n2  2017-06-07T09:04:00.000Z,2017-04-30T00:45:00.000Z  ...                True   \n3  2017-06-07T09:04:00.000Z,2017-04-30T00:45:00.000Z  ...                True   \n4  2017-06-07T09:04:00.000Z,2017-04-30T00:45:00.000Z  ...                True   \n\n  reviews.id  reviews.numHelpful  reviews.rating  \\\n0        NaN                 0.0             5.0   \n1        NaN                 0.0             5.0   \n2        NaN                 0.0             5.0   \n3        NaN                 0.0             4.0   \n4        NaN                 0.0             5.0   \n\n                                  reviews.sourceURLs  \\\n0  http://reviews.bestbuy.com/3545/5620406/review...   \n1  http://reviews.bestbuy.com/3545/5620406/review...   \n2  http://reviews.bestbuy.com/3545/5620406/review...   \n3  http://reviews.bestbuy.com/3545/5620406/review...   \n4  http://reviews.bestbuy.com/3545/5620406/review...   \n\n                                        reviews.text  \\\n0  This product so far has not disappointed. My c...   \n1  great for beginner or experienced person. Boug...   \n2  Inexpensive tablet for him to use and learn on...   \n3  I've had my Fire HD 8 two weeks now and I love...   \n4  I bought this for my grand daughter when she c...   \n\n                             reviews.title reviews.userCity  \\\n0                                   Kindle              NaN   \n1                                very fast              NaN   \n2  Beginner tablet for our 9 year old son.              NaN   \n3                                  Good!!!              NaN   \n4                Fantastic Tablet for kids              NaN   \n\n   reviews.userProvince  reviews.username  \n0                   NaN           Adapter  \n1                   NaN            truman  \n2                   NaN             DaveZ  \n3                   NaN            Shacks  \n4                   NaN         explore42  \n\n[5 rows x 21 columns]",
      "text/html": "<div>\n<style scoped>\n    .dataframe tbody tr th:only-of-type {\n        vertical-align: middle;\n    }\n\n    .dataframe tbody tr th {\n        vertical-align: top;\n    }\n\n    .dataframe thead th {\n        text-align: right;\n    }\n</style>\n<table border=\"1\" class=\"dataframe\">\n  <thead>\n    <tr style=\"text-align: right;\">\n      <th></th>\n      <th>id</th>\n      <th>name</th>\n      <th>asins</th>\n      <th>brand</th>\n      <th>categories</th>\n      <th>keys</th>\n      <th>manufacturer</th>\n      <th>reviews.date</th>\n      <th>reviews.dateAdded</th>\n      <th>reviews.dateSeen</th>\n      <th>...</th>\n      <th>reviews.doRecommend</th>\n      <th>reviews.id</th>\n      <th>reviews.numHelpful</th>\n      <th>reviews.rating</th>\n      <th>reviews.sourceURLs</th>\n      <th>reviews.text</th>\n      <th>reviews.title</th>\n      <th>reviews.userCity</th>\n      <th>reviews.userProvince</th>\n      <th>reviews.username</th>\n    </tr>\n  </thead>\n  <tbody>\n    <tr>\n      <th>0</th>\n      <td>AVqkIhwDv8e3D1O-lebb</td>\n      <td>All-New Fire HD 8 Tablet, 8 HD Display, Wi-Fi,...</td>\n      <td>B01AHB9CN2</td>\n      <td>Amazon</td>\n      <td>Electronics,iPad &amp; Tablets,All Tablets,Fire Ta...</td>\n      <td>841667104676,amazon/53004484,amazon/b01ahb9cn2...</td>\n      <td>Amazon</td>\n      <td>2017-01-13T00:00:00.000Z</td>\n      <td>2017-07-03T23:33:15Z</td>\n      <td>2017-06-07T09:04:00.000Z,2017-04-30T00:45:00.000Z</td>\n      <td>...</td>\n      <td>True</td>\n      <td>NaN</td>\n      <td>0.0</td>\n      <td>5.0</td>\n      <td>http://reviews.bestbuy.com/3545/5620406/review...</td>\n      <td>This product so far has not disappointed. My c...</td>\n      <td>Kindle</td>\n      <td>NaN</td>\n      <td>NaN</td>\n      <td>Adapter</td>\n    </tr>\n    <tr>\n      <th>1</th>\n      <td>AVqkIhwDv8e3D1O-lebb</td>\n      <td>All-New Fire HD 8 Tablet, 8 HD Display, Wi-Fi,...</td>\n      <td>B01AHB9CN2</td>\n      <td>Amazon</td>\n      <td>Electronics,iPad &amp; Tablets,All Tablets,Fire Ta...</td>\n      <td>841667104676,amazon/53004484,amazon/b01ahb9cn2...</td>\n      <td>Amazon</td>\n      <td>2017-01-13T00:00:00.000Z</td>\n      <td>2017-07-03T23:33:15Z</td>\n      <td>2017-06-07T09:04:00.000Z,2017-04-30T00:45:00.000Z</td>\n      <td>...</td>\n      <td>True</td>\n      <td>NaN</td>\n      <td>0.0</td>\n      <td>5.0</td>\n      <td>http://reviews.bestbuy.com/3545/5620406/review...</td>\n      <td>great for beginner or experienced person. Boug...</td>\n      <td>very fast</td>\n      <td>NaN</td>\n      <td>NaN</td>\n      <td>truman</td>\n    </tr>\n    <tr>\n      <th>2</th>\n      <td>AVqkIhwDv8e3D1O-lebb</td>\n      <td>All-New Fire HD 8 Tablet, 8 HD Display, Wi-Fi,...</td>\n      <td>B01AHB9CN2</td>\n      <td>Amazon</td>\n      <td>Electronics,iPad &amp; Tablets,All Tablets,Fire Ta...</td>\n      <td>841667104676,amazon/53004484,amazon/b01ahb9cn2...</td>\n      <td>Amazon</td>\n      <td>2017-01-13T00:00:00.000Z</td>\n      <td>2017-07-03T23:33:15Z</td>\n      <td>2017-06-07T09:04:00.000Z,2017-04-30T00:45:00.000Z</td>\n      <td>...</td>\n      <td>True</td>\n      <td>NaN</td>\n      <td>0.0</td>\n      <td>5.0</td>\n      <td>http://reviews.bestbuy.com/3545/5620406/review...</td>\n      <td>Inexpensive tablet for him to use and learn on...</td>\n      <td>Beginner tablet for our 9 year old son.</td>\n      <td>NaN</td>\n      <td>NaN</td>\n      <td>DaveZ</td>\n    </tr>\n    <tr>\n      <th>3</th>\n      <td>AVqkIhwDv8e3D1O-lebb</td>\n      <td>All-New Fire HD 8 Tablet, 8 HD Display, Wi-Fi,...</td>\n      <td>B01AHB9CN2</td>\n      <td>Amazon</td>\n      <td>Electronics,iPad &amp; Tablets,All Tablets,Fire Ta...</td>\n      <td>841667104676,amazon/53004484,amazon/b01ahb9cn2...</td>\n      <td>Amazon</td>\n      <td>2017-01-13T00:00:00.000Z</td>\n      <td>2017-07-03T23:33:15Z</td>\n      <td>2017-06-07T09:04:00.000Z,2017-04-30T00:45:00.000Z</td>\n      <td>...</td>\n      <td>True</td>\n      <td>NaN</td>\n      <td>0.0</td>\n      <td>4.0</td>\n      <td>http://reviews.bestbuy.com/3545/5620406/review...</td>\n      <td>I've had my Fire HD 8 two weeks now and I love...</td>\n      <td>Good!!!</td>\n      <td>NaN</td>\n      <td>NaN</td>\n      <td>Shacks</td>\n    </tr>\n    <tr>\n      <th>4</th>\n      <td>AVqkIhwDv8e3D1O-lebb</td>\n      <td>All-New Fire HD 8 Tablet, 8 HD Display, Wi-Fi,...</td>\n      <td>B01AHB9CN2</td>\n      <td>Amazon</td>\n      <td>Electronics,iPad &amp; Tablets,All Tablets,Fire Ta...</td>\n      <td>841667104676,amazon/53004484,amazon/b01ahb9cn2...</td>\n      <td>Amazon</td>\n      <td>2017-01-12T00:00:00.000Z</td>\n      <td>2017-07-03T23:33:15Z</td>\n      <td>2017-06-07T09:04:00.000Z,2017-04-30T00:45:00.000Z</td>\n      <td>...</td>\n      <td>True</td>\n      <td>NaN</td>\n      <td>0.0</td>\n      <td>5.0</td>\n      <td>http://reviews.bestbuy.com/3545/5620406/review...</td>\n      <td>I bought this for my grand daughter when she c...</td>\n      <td>Fantastic Tablet for kids</td>\n      <td>NaN</td>\n      <td>NaN</td>\n      <td>explore42</td>\n    </tr>\n  </tbody>\n</table>\n<p>5 rows × 21 columns</p>\n</div>"
     },
     "metadata": {},
     "output_type": "execute_result",
     "execution_count": 45
    }
   ],
   "source": [
    "# Importing the libraries needed\n",
    "import pandas as pd\n",
    "import matplotlib.pyplot as plt\n",
    "import numpy as np\n",
    "import seaborn as sns\n",
    "import warnings\n",
    "\n",
    "# Specifying warning to be ignored\n",
    "warnings.filterwarnings('ignore')\n",
    "warnings.filterwarnings(\"ignore\", category=DeprecationWarning)\n",
    "warnings.filterwarnings(\"ignore\",category=UserWarning)\n",
    "# Plotting style\n",
    "sns.set_style(\"whitegrid\")\n",
    "%matplotlib inline \n",
    "# Seeding random number generator\n",
    "np.random.seed(7)\n",
    "\n",
    "# Reading csv file and viewing of first five rows\n",
    "csv = \"amazon_reviews.csv\"\n",
    "df = pd.read_csv(csv)\n",
    "df.head(5)"
   ]
  },
  {
   "cell_type": "markdown",
   "metadata": {
    "hidden": true
   },
   "source": [
    "- The sentiment analysis refinement can be performed with the review text or with the actual rating of the recommendation of the product. \n",
    "- It would also be feasible to label each review based on the sentiment expressed through the title, which could possibly \n",
    "contain positive or negative information regarding the review."
   ]
  },
  {
   "cell_type": "code",
   "execution_count": 46,
   "metadata": {
    "hidden": true,
    "pycharm": {
     "is_executing": false
    }
   },
   "outputs": [
    {
     "data": {
      "text/plain": "        reviews.id  reviews.numHelpful  reviews.rating  reviews.userCity  \\\ncount          1.0        34131.000000    34627.000000               0.0   \nmean   111372787.0            0.630248        4.584573               NaN   \nstd            NaN           13.215775        0.735653               NaN   \nmin    111372787.0            0.000000        1.000000               NaN   \n25%    111372787.0            0.000000        4.000000               NaN   \n50%    111372787.0            0.000000        5.000000               NaN   \n75%    111372787.0            0.000000        5.000000               NaN   \nmax    111372787.0          814.000000        5.000000               NaN   \n\n       reviews.userProvince  \ncount                   0.0  \nmean                    NaN  \nstd                     NaN  \nmin                     NaN  \n25%                     NaN  \n50%                     NaN  \n75%                     NaN  \nmax                     NaN  ",
      "text/html": "<div>\n<style scoped>\n    .dataframe tbody tr th:only-of-type {\n        vertical-align: middle;\n    }\n\n    .dataframe tbody tr th {\n        vertical-align: top;\n    }\n\n    .dataframe thead th {\n        text-align: right;\n    }\n</style>\n<table border=\"1\" class=\"dataframe\">\n  <thead>\n    <tr style=\"text-align: right;\">\n      <th></th>\n      <th>reviews.id</th>\n      <th>reviews.numHelpful</th>\n      <th>reviews.rating</th>\n      <th>reviews.userCity</th>\n      <th>reviews.userProvince</th>\n    </tr>\n  </thead>\n  <tbody>\n    <tr>\n      <th>count</th>\n      <td>1.0</td>\n      <td>34131.000000</td>\n      <td>34627.000000</td>\n      <td>0.0</td>\n      <td>0.0</td>\n    </tr>\n    <tr>\n      <th>mean</th>\n      <td>111372787.0</td>\n      <td>0.630248</td>\n      <td>4.584573</td>\n      <td>NaN</td>\n      <td>NaN</td>\n    </tr>\n    <tr>\n      <th>std</th>\n      <td>NaN</td>\n      <td>13.215775</td>\n      <td>0.735653</td>\n      <td>NaN</td>\n      <td>NaN</td>\n    </tr>\n    <tr>\n      <th>min</th>\n      <td>111372787.0</td>\n      <td>0.000000</td>\n      <td>1.000000</td>\n      <td>NaN</td>\n      <td>NaN</td>\n    </tr>\n    <tr>\n      <th>25%</th>\n      <td>111372787.0</td>\n      <td>0.000000</td>\n      <td>4.000000</td>\n      <td>NaN</td>\n      <td>NaN</td>\n    </tr>\n    <tr>\n      <th>50%</th>\n      <td>111372787.0</td>\n      <td>0.000000</td>\n      <td>5.000000</td>\n      <td>NaN</td>\n      <td>NaN</td>\n    </tr>\n    <tr>\n      <th>75%</th>\n      <td>111372787.0</td>\n      <td>0.000000</td>\n      <td>5.000000</td>\n      <td>NaN</td>\n      <td>NaN</td>\n    </tr>\n    <tr>\n      <th>max</th>\n      <td>111372787.0</td>\n      <td>814.000000</td>\n      <td>5.000000</td>\n      <td>NaN</td>\n      <td>NaN</td>\n    </tr>\n  </tbody>\n</table>\n</div>"
     },
     "metadata": {},
     "output_type": "execute_result",
     "execution_count": 46
    }
   ],
   "source": [
    "# Calculating descriptive statistics of the dataframe\n",
    "data = df.copy()\n",
    "data.describe()"
   ]
  },
  {
   "cell_type": "markdown",
   "metadata": {
    "hidden": true
   },
   "source": [
    "Based upon the descriptive statistics shown above, the following information can be retrieved:\n",
    "- The average review score is 4.58 having, however, a low standard deviation.\n",
    "    - The data is spread out around the average score.\n",
    "- From the second quartile onwards most reviews are positive.\n",
    "- The average number of helpful reviews is 0.63, having a high standard deviation.\n",
    "    - For most reviews, the range of helpfulness is between 0 to 13 users considering useful the information given.\n",
    "    - The review considered most helpful by the users counted the opinion of 814 people."
   ]
  },
  {
   "cell_type": "code",
   "execution_count": 47,
   "metadata": {
    "hidden": true,
    "pycharm": {
     "is_executing": false
    }
   },
   "outputs": [
    {
     "name": "stdout",
     "text": [
      "<class 'pandas.core.frame.DataFrame'>\n",
      "RangeIndex: 34660 entries, 0 to 34659\n",
      "Data columns (total 21 columns):\n",
      " #   Column                Non-Null Count  Dtype  \n",
      "---  ------                --------------  -----  \n",
      " 0   id                    34660 non-null  object \n",
      " 1   name                  27900 non-null  object \n",
      " 2   asins                 34658 non-null  object \n",
      " 3   brand                 34660 non-null  object \n",
      " 4   categories            34660 non-null  object \n",
      " 5   keys                  34660 non-null  object \n",
      " 6   manufacturer          34660 non-null  object \n",
      " 7   reviews.date          34621 non-null  object \n",
      " 8   reviews.dateAdded     24039 non-null  object \n",
      " 9   reviews.dateSeen      34660 non-null  object \n",
      " 10  reviews.didPurchase   1 non-null      object \n",
      " 11  reviews.doRecommend   34066 non-null  object \n",
      " 12  reviews.id            1 non-null      float64\n",
      " 13  reviews.numHelpful    34131 non-null  float64\n",
      " 14  reviews.rating        34627 non-null  float64\n",
      " 15  reviews.sourceURLs    34660 non-null  object \n",
      " 16  reviews.text          34659 non-null  object \n",
      " 17  reviews.title         34655 non-null  object \n",
      " 18  reviews.userCity      0 non-null      float64\n",
      " 19  reviews.userProvince  0 non-null      float64\n",
      " 20  reviews.username      34658 non-null  object \n",
      "dtypes: float64(5), object(16)\n",
      "memory usage: 5.6+ MB\n"
     ],
     "output_type": "stream"
    }
   ],
   "source": [
    "# Displaying data information (columns, number of values, etc.)\n",
    "data.info()"
   ]
  },
  {
   "cell_type": "markdown",
   "metadata": {
    "hidden": true
   },
   "source": [
    "Based upon the information given above:\n",
    "- The columns reviews.userCity, reviews.userProvince, reviews.id, and reviews.didPurchase will be dropped, they will be \n",
    "considered only for exploratory analysis since they present floats.\n",
    "- Not every column has the maximum number of entry points in comparison to the total number of entries.\n",
    "- The column reviews.text has the minimum missing information (provides 34659 entries on a total of 34660).\n",
    "- The name column is missing 6760 values, meaning that the ASINs value should be referenced instead of it.\n",
    "- For comprehension, it is important to explain that ASINs are unique 10-character alphanumeric identifiers assigned by \n",
    "Amazon for product identification."
   ]
  },
  {
   "cell_type": "code",
   "execution_count": 48,
   "metadata": {
    "hidden": true,
    "pycharm": {
     "is_executing": false
    }
   },
   "outputs": [
    {
     "data": {
      "text/plain": "array(['B01AHB9CN2', 'B00VINDBJK', 'B005PB2T0S', 'B002Y27P3M',\n       'B01AHB9CYG', 'B01AHB9C1E', 'B01J2G4VBG', 'B00ZV9PXP2',\n       'B0083Q04TA', 'B018Y229OU', 'B00REQKWGA', 'B00IOYAM4I',\n       'B018T075DC', nan, 'B00DU15MU4', 'B018Y225IA', 'B005PB2T2Q',\n       'B018Y23MNM', 'B00OQVZDJM', 'B00IOY8XWQ', 'B00LO29KXQ',\n       'B00QJDU3KY', 'B018Y22C2Y', 'B01BFIBRIE', 'B01J4ORNHU',\n       'B018SZT3BK', 'B00UH4D8G2', 'B018Y22BI4', 'B00TSUGXKE',\n       'B00L9EPT8O,B01E6AO69U', 'B018Y23P7K', 'B00X4WHP5E', 'B00QFQRELG',\n       'B00LW9XOJM', 'B00QL1ZN3G', 'B0189XYY0Q', 'B01BH83OOM',\n       'B00BFJAHF8', 'B00U3FPN4U', 'B002Y27P6Y', 'B006GWO5NE',\n       'B006GWO5WK'], dtype=object)"
     },
     "metadata": {},
     "output_type": "execute_result",
     "execution_count": 48
    }
   ],
   "source": [
    "# Finding unique ASINs\n",
    "data[\"asins\"].unique()"
   ]
  },
  {
   "cell_type": "code",
   "execution_count": 49,
   "metadata": {
    "hidden": true,
    "pycharm": {
     "is_executing": false
    }
   },
   "outputs": [
    {
     "name": "stdout",
     "text": [
      "Number of Unique ASINs: 42\n"
     ],
     "output_type": "stream"
    }
   ],
   "source": [
    "# Counting the number of unique ASINs\n",
    "asins_unique = len(data[\"asins\"].unique())\n",
    "print(\"Number of Unique ASINs: \" + str(asins_unique))"
   ]
  },
  {
   "cell_type": "markdown",
   "metadata": {
    "hidden": true
   },
   "source": [
    "**Visualizing the distributions of numerical variables:**"
   ]
  },
  {
   "cell_type": "code",
   "execution_count": 50,
   "metadata": {
    "hidden": true,
    "pycharm": {
     "is_executing": false
    }
   },
   "outputs": [
    {
     "data": {
      "text/plain": "<Figure size 1440x1080 with 6 Axes>",
      "image/png": "[encoded data removed]"
     },
     "metadata": {
      "needs_background": "light"
     },
     "output_type": "display_data"
    }
   ],
   "source": [
    "# Building histogram by setting the number of bins and fig size (width and height)\n",
    "data.hist(bins=50, figsize=(20,15))\n",
    "# Visualizing the distributions of numerical variables:\n",
    "plt.show()"
   ]
  },
  {
   "cell_type": "markdown",
   "metadata": {
    "hidden": true
   },
   "source": [
    "Based on the distributions shown above:\n",
    "- Regarding the helpfulness, outliers are considered valuable, it may be important to weight reviews that had more than 50+ people considering it useful.\n",
    "- Regarding the rating, the vast majority of the entries were rated highly. The amount of 5 star ratings is double the amount of the other ratings combined."
   ]
  },
  {
   "cell_type": "markdown",
   "metadata": {
    "heading_collapsed": true
   },
   "source": [
    "# 3 Splitting dataset for Training and Testing"
   ]
  },
  {
   "cell_type": "markdown",
   "metadata": {
    "hidden": true
   },
   "source": [
    "- Before exploring the dataset, the sample is going to be split into training and testing for the sentiment analysis classifier.\n",
    "- A stratified split will be done on the review score to ensure balanced data due to the fact that the majority of reviews are positive.\n",
    "- In order to utilize Scikit-learn's `Stratified ShuffleSplit` class, all the reviews that are missing information (NaN) in rating scores\n",
    "will be removed. Subsequently, all the review scores will be converted to `integer` datatype."
   ]
  },
  {
   "cell_type": "code",
   "execution_count": 51,
   "metadata": {
    "hidden": true,
    "pycharm": {
     "is_executing": false
    }
   },
   "outputs": [
    {
     "name": "stdout",
     "text": [
      "Before removing NaN values 34660\n",
      "After removing NaN values 34627\n"
     ],
     "output_type": "stream"
    }
   ],
   "source": [
    "# Removing reviews that are missing information in rating scores\n",
    "from sklearn.model_selection import StratifiedShuffleSplit\n",
    "print(\"Before removing NaN values {}\".format(len(data)))\n",
    "dataAfter = data.dropna(subset=[\"reviews.rating\"]) # removes all NAN in reviews.rating\n",
    "print(\"After removing NaN values {}\".format(len(dataAfter)))\n",
    "dataAfter[\"reviews.rating\"] = dataAfter[\"reviews.rating\"].astype(int)"
   ]
  },
  {
   "cell_type": "code",
   "execution_count": 52,
   "metadata": {
    "hidden": true,
    "pycharm": {
     "is_executing": false
    }
   },
   "outputs": [],
   "source": [
    "# Splitting dataset into training and testing for the sentiment analysis classifier\n",
    "# A stratified split is done on the review score to ensure balanced data due to the fact that the majority of reviews\n",
    "# are positive\n",
    "split = StratifiedShuffleSplit(n_splits=5, test_size=0.2)\n",
    "for train_index, test_index in split.split(dataAfter, dataAfter[\"reviews.rating\"]): \n",
    "    strat_train = dataAfter.reindex(train_index)\n",
    "    strat_test = dataAfter.reindex(test_index)"
   ]
  },
  {
   "cell_type": "markdown",
   "metadata": {
    "hidden": true
   },
   "source": [
    "**Checking to ensure training and testing sets have been stratified proportionately in comparison to the raw data.**"
   ]
  },
  {
   "cell_type": "code",
   "execution_count": 53,
   "metadata": {
    "hidden": true,
    "pycharm": {
     "is_executing": false
    }
   },
   "outputs": [
    {
     "data": {
      "text/plain": "27701"
     },
     "metadata": {},
     "output_type": "execute_result",
     "execution_count": 53
    }
   ],
   "source": [
    "# Displaying size of training set\n",
    "len(strat_train)"
   ]
  },
  {
   "cell_type": "code",
   "execution_count": 54,
   "metadata": {
    "hidden": true,
    "pycharm": {
     "is_executing": false
    }
   },
   "outputs": [
    {
     "data": {
      "text/plain": "5.0    0.685174\n4.0    0.247031\n3.0    0.043500\n2.0    0.011696\n1.0    0.011588\nName: reviews.rating, dtype: float64"
     },
     "metadata": {},
     "output_type": "execute_result",
     "execution_count": 54
    }
   ],
   "source": [
    "# Counting values based on the review scores column to ensure proportionate stratification of the raw data\n",
    "strat_train[\"reviews.rating\"].value_counts()/len(strat_train) # value_count() counts all the values based on column"
   ]
  },
  {
   "cell_type": "code",
   "execution_count": 55,
   "metadata": {
    "hidden": true,
    "pycharm": {
     "is_executing": false
    }
   },
   "outputs": [
    {
     "data": {
      "text/plain": "6926"
     },
     "metadata": {},
     "output_type": "execute_result",
     "execution_count": 55
    }
   ],
   "source": [
    "# Displaying size of testing set\n",
    "len(strat_test)"
   ]
  },
  {
   "cell_type": "code",
   "execution_count": 56,
   "metadata": {
    "hidden": true,
    "pycharm": {
     "is_executing": false
    },
    "scrolled": true
   },
   "outputs": [
    {
     "data": {
      "text/plain": "5.0    0.689864\n4.0    0.244730\n3.0    0.042160\n1.0    0.011406\n2.0    0.011118\nName: reviews.rating, dtype: float64"
     },
     "metadata": {},
     "output_type": "execute_result",
     "execution_count": 56
    }
   ],
   "source": [
    "# Counting values based on the review scores column to ensure proportionate stratification of the raw data\n",
    "strat_test[\"reviews.rating\"].value_counts()/len(strat_test)"
   ]
  },
  {
   "cell_type": "markdown",
   "metadata": {
    "heading_collapsed": true
   },
   "source": [
    "# 4 Exploration of data on training sample"
   ]
  },
  {
   "cell_type": "code",
   "execution_count": 57,
   "metadata": {
    "hidden": true,
    "pycharm": {
     "is_executing": false
    }
   },
   "outputs": [
    {
     "data": {
      "text/plain": "                         id  \\\n4349   AVphgVaX1cnluZ0-DR74   \n30776  AV1YE_muvKc47QAVgpwE   \n28775  AVpidLjVilAPnD_xEVpI   \n1136   AVqkIhwDv8e3D1O-lebb   \n17803  AV1YnRtnglJLPUi8IJmV   \n\n                                                    name       asins  \\\n4349   Fire Tablet, 7 Display, Wi-Fi, 8 GB - Includes...  B018Y229OU   \n30776                                                NaN  B00U3FPN4U   \n28775                                                NaN  B0189XYY0Q   \n1136   All-New Fire HD 8 Tablet, 8 HD Display, Wi-Fi,...  B01AHB9CN2   \n17803  Amazon Kindle Paperwhite - eBook reader - 4 GB...  B00OQVZDJM   \n\n                brand                                         categories  \\\n4349           Amazon  Fire Tablets,Tablets,Computers & Tablets,All T...   \n30776  Amazon Fire Tv  Back To College,College Electronics,College Tv...   \n28775     Amazon Fire  Electronics,Tablets & E-Readers,Tablets,Back T...   \n1136           Amazon  Electronics,iPad & Tablets,All Tablets,Fire Ta...   \n17803          Amazon  Walmart for Business,Office Electronics,Tablet...   \n\n                                                    keys manufacturer  \\\n4349   firetablet7displaywifi8gbincludesspecialoffers...       Amazon   \n30776  848719057492,amazonfiretv/51454342,amazonfiret...       Amazon   \n28775  841667101743,amazonfire/51441641,amazonfirehd1...       Amazon   \n1136   841667104676,amazon/53004484,amazon/b01ahb9cn2...       Amazon   \n17803  amazon/b00oqvzdjm,848719056099,amazonkindlepap...       Amazon   \n\n                   reviews.date     reviews.dateAdded  \\\n4349   2015-11-28T00:00:00.000Z  2017-05-21T04:06:08Z   \n30776  2017-01-06T00:00:00.000Z  2017-09-20T05:35:55Z   \n28775  2017-03-11T00:00:00.000Z                   NaN   \n1136   2017-02-04T00:00:00.000Z  2017-05-21T05:56:10Z   \n17803  2015-10-22T00:00:00.000Z  2017-09-05T22:09:30Z   \n\n                                        reviews.dateSeen  ...  \\\n4349   2017-04-30T00:26:00.000Z,2017-06-07T08:10:00.000Z  ...   \n30776  2017-08-25T22:21:42.763Z,2017-08-19T09:26:46.1...  ...   \n28775  2017-09-03T08:45:20.825Z,2017-08-27T11:01:01.1...  ...   \n1136   2017-04-30T00:42:00.000Z,2017-06-07T09:04:00.000Z  ...   \n17803  2017-08-31T22:34:06.437Z,2017-08-02T19:49:50.3...  ...   \n\n      reviews.doRecommend reviews.id  reviews.numHelpful  reviews.rating  \\\n4349                 True        NaN                 5.0             5.0   \n30776                True        NaN                 0.0             5.0   \n28775               False        NaN                 0.0             3.0   \n1136                 True        NaN                 1.0             4.0   \n17803                True        NaN                 0.0             4.0   \n\n                                      reviews.sourceURLs  \\\n4349   http://reviews.bestbuy.com/3545/5025800/review...   \n30776  http://reviews.bestbuy.com/3545/4370400/review...   \n28775  http://reviews.bestbuy.com/3545/5386601/review...   \n1136   http://reviews.bestbuy.com/3545/5620406/review...   \n17803  http://reviews.bestbuy.com/3545/9439005/review...   \n\n                                            reviews.text  \\\n4349   we bought this for my 11 year old daughter and...   \n30776  I have the Roku 4, and new Apple TV, this stre...   \n28775  This is my 3rd Kindle. I have continued to mov...   \n1136   enjoying reading via the device; lots of optio...   \n17803  If you want an e book reader that is light, ea...   \n\n                             reviews.title reviews.userCity  \\\n4349                    great for all ages              NaN   \n30776                  Great streaming box              NaN   \n28775                        My 3rd Kindle              NaN   \n1136   easy to use; a little heavy to hold              NaN   \n17803        As an e reader this is great!              NaN   \n\n       reviews.userProvince  reviews.username  \n4349                    NaN              Mark  \n30776                   NaN            Techno  \n28775                   NaN          Sunshine  \n1136                    NaN              bird  \n17803                   NaN            Thomas  \n\n[5 rows x 21 columns]",
      "text/html": "<div>\n<style scoped>\n    .dataframe tbody tr th:only-of-type {\n        vertical-align: middle;\n    }\n\n    .dataframe tbody tr th {\n        vertical-align: top;\n    }\n\n    .dataframe thead th {\n        text-align: right;\n    }\n</style>\n<table border=\"1\" class=\"dataframe\">\n  <thead>\n    <tr style=\"text-align: right;\">\n      <th></th>\n      <th>id</th>\n      <th>name</th>\n      <th>asins</th>\n      <th>brand</th>\n      <th>categories</th>\n      <th>keys</th>\n      <th>manufacturer</th>\n      <th>reviews.date</th>\n      <th>reviews.dateAdded</th>\n      <th>reviews.dateSeen</th>\n      <th>...</th>\n      <th>reviews.doRecommend</th>\n      <th>reviews.id</th>\n      <th>reviews.numHelpful</th>\n      <th>reviews.rating</th>\n      <th>reviews.sourceURLs</th>\n      <th>reviews.text</th>\n      <th>reviews.title</th>\n      <th>reviews.userCity</th>\n      <th>reviews.userProvince</th>\n      <th>reviews.username</th>\n    </tr>\n  </thead>\n  <tbody>\n    <tr>\n      <th>4349</th>\n      <td>AVphgVaX1cnluZ0-DR74</td>\n      <td>Fire Tablet, 7 Display, Wi-Fi, 8 GB - Includes...</td>\n      <td>B018Y229OU</td>\n      <td>Amazon</td>\n      <td>Fire Tablets,Tablets,Computers &amp; Tablets,All T...</td>\n      <td>firetablet7displaywifi8gbincludesspecialoffers...</td>\n      <td>Amazon</td>\n      <td>2015-11-28T00:00:00.000Z</td>\n      <td>2017-05-21T04:06:08Z</td>\n      <td>2017-04-30T00:26:00.000Z,2017-06-07T08:10:00.000Z</td>\n      <td>...</td>\n      <td>True</td>\n      <td>NaN</td>\n      <td>5.0</td>\n      <td>5.0</td>\n      <td>http://reviews.bestbuy.com/3545/5025800/review...</td>\n      <td>we bought this for my 11 year old daughter and...</td>\n      <td>great for all ages</td>\n      <td>NaN</td>\n      <td>NaN</td>\n      <td>Mark</td>\n    </tr>\n    <tr>\n      <th>30776</th>\n      <td>AV1YE_muvKc47QAVgpwE</td>\n      <td>NaN</td>\n      <td>B00U3FPN4U</td>\n      <td>Amazon Fire Tv</td>\n      <td>Back To College,College Electronics,College Tv...</td>\n      <td>848719057492,amazonfiretv/51454342,amazonfiret...</td>\n      <td>Amazon</td>\n      <td>2017-01-06T00:00:00.000Z</td>\n      <td>2017-09-20T05:35:55Z</td>\n      <td>2017-08-25T22:21:42.763Z,2017-08-19T09:26:46.1...</td>\n      <td>...</td>\n      <td>True</td>\n      <td>NaN</td>\n      <td>0.0</td>\n      <td>5.0</td>\n      <td>http://reviews.bestbuy.com/3545/4370400/review...</td>\n      <td>I have the Roku 4, and new Apple TV, this stre...</td>\n      <td>Great streaming box</td>\n      <td>NaN</td>\n      <td>NaN</td>\n      <td>Techno</td>\n    </tr>\n    <tr>\n      <th>28775</th>\n      <td>AVpidLjVilAPnD_xEVpI</td>\n      <td>NaN</td>\n      <td>B0189XYY0Q</td>\n      <td>Amazon Fire</td>\n      <td>Electronics,Tablets &amp; E-Readers,Tablets,Back T...</td>\n      <td>841667101743,amazonfire/51441641,amazonfirehd1...</td>\n      <td>Amazon</td>\n      <td>2017-03-11T00:00:00.000Z</td>\n      <td>NaN</td>\n      <td>2017-09-03T08:45:20.825Z,2017-08-27T11:01:01.1...</td>\n      <td>...</td>\n      <td>False</td>\n      <td>NaN</td>\n      <td>0.0</td>\n      <td>3.0</td>\n      <td>http://reviews.bestbuy.com/3545/5386601/review...</td>\n      <td>This is my 3rd Kindle. I have continued to mov...</td>\n      <td>My 3rd Kindle</td>\n      <td>NaN</td>\n      <td>NaN</td>\n      <td>Sunshine</td>\n    </tr>\n    <tr>\n      <th>1136</th>\n      <td>AVqkIhwDv8e3D1O-lebb</td>\n      <td>All-New Fire HD 8 Tablet, 8 HD Display, Wi-Fi,...</td>\n      <td>B01AHB9CN2</td>\n      <td>Amazon</td>\n      <td>Electronics,iPad &amp; Tablets,All Tablets,Fire Ta...</td>\n      <td>841667104676,amazon/53004484,amazon/b01ahb9cn2...</td>\n      <td>Amazon</td>\n      <td>2017-02-04T00:00:00.000Z</td>\n      <td>2017-05-21T05:56:10Z</td>\n      <td>2017-04-30T00:42:00.000Z,2017-06-07T09:04:00.000Z</td>\n      <td>...</td>\n      <td>True</td>\n      <td>NaN</td>\n      <td>1.0</td>\n      <td>4.0</td>\n      <td>http://reviews.bestbuy.com/3545/5620406/review...</td>\n      <td>enjoying reading via the device; lots of optio...</td>\n      <td>easy to use; a little heavy to hold</td>\n      <td>NaN</td>\n      <td>NaN</td>\n      <td>bird</td>\n    </tr>\n    <tr>\n      <th>17803</th>\n      <td>AV1YnRtnglJLPUi8IJmV</td>\n      <td>Amazon Kindle Paperwhite - eBook reader - 4 GB...</td>\n      <td>B00OQVZDJM</td>\n      <td>Amazon</td>\n      <td>Walmart for Business,Office Electronics,Tablet...</td>\n      <td>amazon/b00oqvzdjm,848719056099,amazonkindlepap...</td>\n      <td>Amazon</td>\n      <td>2015-10-22T00:00:00.000Z</td>\n      <td>2017-09-05T22:09:30Z</td>\n      <td>2017-08-31T22:34:06.437Z,2017-08-02T19:49:50.3...</td>\n      <td>...</td>\n      <td>True</td>\n      <td>NaN</td>\n      <td>0.0</td>\n      <td>4.0</td>\n      <td>http://reviews.bestbuy.com/3545/9439005/review...</td>\n      <td>If you want an e book reader that is light, ea...</td>\n      <td>As an e reader this is great!</td>\n      <td>NaN</td>\n      <td>NaN</td>\n      <td>Thomas</td>\n    </tr>\n  </tbody>\n</table>\n<p>5 rows × 21 columns</p>\n</div>"
     },
     "metadata": {},
     "output_type": "execute_result",
     "execution_count": 57
    }
   ],
   "source": [
    "reviews = strat_train.copy()\n",
    "# Viewing first five rows of training set\n",
    "reviews.head(5)"
   ]
  },
  {
   "cell_type": "markdown",
   "metadata": {
    "hidden": true
   },
   "source": [
    "For the exploratory insight the following columns will be examined:\n",
    "- ASINs\n",
    "- name\n",
    "- rating score\n",
    "- recommendation score"
   ]
  },
  {
   "cell_type": "markdown",
   "metadata": {
    "heading_collapsed": true,
    "hidden": true
   },
   "source": [
    "## 4.1 Analysing names and ASINs"
   ]
  },
  {
   "cell_type": "code",
   "execution_count": 58,
   "metadata": {
    "hidden": true,
    "pycharm": {
     "is_executing": false
    }
   },
   "outputs": [
    {
     "data": {
      "text/plain": "(47, 35)"
     },
     "metadata": {},
     "output_type": "execute_result",
     "execution_count": 58
    }
   ],
   "source": [
    "# Viewing the number of product names and ASINs\n",
    "len(reviews[\"name\"].unique()), len(reviews[\"asins\"].unique())"
   ]
  },
  {
   "cell_type": "code",
   "execution_count": 59,
   "metadata": {
    "hidden": true,
    "pycharm": {
     "is_executing": false
    }
   },
   "outputs": [
    {
     "name": "stdout",
     "text": [
      "<class 'pandas.core.frame.DataFrame'>\n",
      "Int64Index: 27701 entries, 4349 to 29636\n",
      "Data columns (total 21 columns):\n",
      " #   Column                Non-Null Count  Dtype  \n",
      "---  ------                --------------  -----  \n",
      " 0   id                    27673 non-null  object \n",
      " 1   name                  22268 non-null  object \n",
      " 2   asins                 27672 non-null  object \n",
      " 3   brand                 27673 non-null  object \n",
      " 4   categories            27673 non-null  object \n",
      " 5   keys                  27673 non-null  object \n",
      " 6   manufacturer          27673 non-null  object \n",
      " 7   reviews.date          27659 non-null  object \n",
      " 8   reviews.dateAdded     19228 non-null  object \n",
      " 9   reviews.dateSeen      27673 non-null  object \n",
      " 10  reviews.didPurchase   1 non-null      object \n",
      " 11  reviews.doRecommend   27257 non-null  object \n",
      " 12  reviews.id            1 non-null      float64\n",
      " 13  reviews.numHelpful    27304 non-null  float64\n",
      " 14  reviews.rating        27673 non-null  float64\n",
      " 15  reviews.sourceURLs    27673 non-null  object \n",
      " 16  reviews.text          27672 non-null  object \n",
      " 17  reviews.title         27668 non-null  object \n",
      " 18  reviews.userCity      0 non-null      float64\n",
      " 19  reviews.userProvince  0 non-null      float64\n",
      " 20  reviews.username      27671 non-null  object \n",
      "dtypes: float64(5), object(16)\n",
      "memory usage: 4.6+ MB\n"
     ],
     "output_type": "stream"
    }
   ],
   "source": [
    "# Viewing summary of the training data for exploratory analysis of the data\n",
    "reviews.info()"
   ]
  },
  {
   "cell_type": "markdown",
   "metadata": {
    "hidden": true
   },
   "source": [
    "Elaboration of a hypothesis: there are only 35 products based on the training data ASINs\n",
    "- Each ASIN is correlated to one product, but might have multiple product names (one-to-many relationship).\n",
    "- A single ASIN can have many names due to different vendor listings. Moreover, there could also be a lot of missing names \n",
    "or more names with slight variations in title (i.e. GB VS 8 GB, NaN for product names)."
   ]
  },
  {
   "cell_type": "code",
   "execution_count": 60,
   "metadata": {
    "hidden": true,
    "pycharm": {
     "is_executing": false
    }
   },
   "outputs": [
    {
     "data": {
      "text/plain": "asins\nB005PB2T0S               [Amazon Kindle Lighted Leather Cover,,,\\r\\nAma...\nB005PB2T2Q               [Fire Kids Edition Tablet, 7 Display, Wi-Fi, 1...\nB00IOY8XWQ               [Kindle Paperwhite,,,\\r\\nKindle Paperwhite,,,,...\nB00IOYAM4I               [Brand New Amazon Kindle Fire 16gb 7 Ips Displ...\nB00L9EPT8O,B01E6AO69U    [Echo (White),,,\\r\\nEcho (White),,,, Amazon Fi...\nB00LO29KXQ               [Fire Tablet, 7 Display, Wi-Fi, 8 GB - Include...\nB00LW9XOJM                                                           [nan]\nB00OQVZDJM               [Amazon Kindle Paperwhite - eBook reader - 4 G...\nB00QFQRELG                                                           [nan]\nB00QJDU3KY               [Fire Tablet, 7 Display, Wi-Fi, 8 GB - Include...\nB00QL1ZN3G                                                           [nan]\nB00REQKWGA               [Brand New Amazon Kindle Fire 16gb 7 Ips Displ...\nB00TSUGXKE                            [Echo (White),,,\\r\\nEcho (White),,,]\nB00U3FPN4U                                                           [nan]\nB00UH4D8G2                            [Echo (White),,,\\r\\nEcho (White),,,]\nB00VINDBJK               [Kindle Oasis E-reader with Leather Charging C...\nB00X4WHP5E                                                           [nan]\nB00ZV9PXP2               [Fire Tablet, 7 Display, Wi-Fi, 8 GB - Include...\nB0189XYY0Q                                                           [nan]\nB018SZT3BK               [Fire Tablet, 7 Display, Wi-Fi, 8 GB - Include...\nB018T075DC               [Brand New Amazon Kindle Fire 16gb 7 Ips Displ...\nB018Y225IA               [Brand New Amazon Kindle Fire 16gb 7 Ips Displ...\nB018Y229OU               [Fire Tablet, 7 Display, Wi-Fi, 8 GB - Include...\nB018Y22BI4                            [Echo (White),,,\\r\\nEcho (White),,,]\nB018Y22C2Y               [Fire Tablet, 7 Display, Wi-Fi, 8 GB - Include...\nB018Y23MNM               [Fire Kids Edition Tablet, 7 Display, Wi-Fi, 1...\nB018Y23P7K                                                           [nan]\nB01AHB9C1E               [Amazon 5W USB Official OEM Charger and Power ...\nB01AHB9CN2               [All-New Fire HD 8 Tablet, 8 HD Display, Wi-Fi...\nB01AHB9CYG               [All-New Fire HD 8 Tablet, 8 HD Display, Wi-Fi...\nB01BFIBRIE               [Fire Tablet, 7 Display, Wi-Fi, 8 GB - Include...\nB01BH83OOM                                                           [nan]\nB01J2G4VBG               [All-New Kindle E-reader - Black, 6 Glare-Free...\nB01J4ORNHU               [Fire Tablet, 7 Display, Wi-Fi, 8 GB - Include...\nName: name, dtype: object"
     },
     "metadata": {},
     "output_type": "execute_result",
     "execution_count": 60
    }
   ],
   "source": [
    "# Grouping by ASINs and name\n",
    "reviews.groupby(\"asins\")[\"name\"].unique()"
   ]
  },
  {
   "cell_type": "markdown",
   "metadata": {
    "hidden": true
   },
   "source": [
    "<u>Important Consideration</u>: 34 ASINs are presents due to the fact that one product has been provided with two ASINs."
   ]
  },
  {
   "cell_type": "code",
   "execution_count": 61,
   "metadata": {
    "hidden": true,
    "pycharm": {
     "is_executing": false
    }
   },
   "outputs": [
    {
     "name": "stdout",
     "text": [
      "Echo (White),,,\r\n",
      "Echo (White),,,\n",
      "Amazon Fire Tv,,,\r\n",
      "Amazon Fire Tv,,,\n",
      "nan\n",
      "Amazon - Amazon Tap Portable Bluetooth and Wi-Fi Speaker - Black,,,\r\n",
      "Amazon - Amazon Tap Portable Bluetooth and Wi-Fi Speaker - Black,,,\n",
      "Amazon Fire Hd 10 Tablet, Wi-Fi, 16 Gb, Special Offers - Silver Aluminum,,,\r\n",
      "Amazon Fire Hd 10 Tablet, Wi-Fi, 16 Gb, Special Offers - Silver Aluminum,,,\n",
      "Amazon 9W PowerFast Official OEM USB Charger and Power Adapter for Fire Tablets and Kindle eReaders,,,\r\n",
      "Amazon 9W PowerFast Official OEM USB Charger and Power Adapter for Fire Tablets and Kindle eReaders,,,\n",
      "Amazon Kindle Fire 5ft USB to Micro-USB Cable (works with most Micro-USB Tablets),,,\r\n",
      "Amazon Kindle Fire 5ft USB to Micro-USB Cable (works with most Micro-USB Tablets),,,\n",
      "Kindle Dx Leather Cover, Black (fits 9.7 Display, Latest and 2nd Generation Kindle Dxs),,\n",
      "Amazon Fire Hd 6 Standing Protective Case(4th Generation - 2014 Release), Cayenne Red,,,\r\n",
      "Amazon Fire Hd 6 Standing Protective Case(4th Generation - 2014 Release), Cayenne Red,,,\n",
      "Amazon Fire Hd 6 Standing Protective Case(4th Generation - 2014 Release), Cayenne Red,,,\r\n",
      "Amazon 5W USB Official OEM Charger and Power Adapter for Fire Tablets and Kindle eReaders,,,\n",
      "New Amazon Kindle Fire Hd 9w Powerfast Adapter Charger + Micro Usb Angle Cable,,,\r\n",
      "New Amazon Kindle Fire Hd 9w Powerfast Adapter Charger + Micro Usb Angle Cable,,,\n",
      "Amazon 5W USB Official OEM Charger and Power Adapter for Fire Tablets and Kindle eReaders,,,\r\n",
      "Amazon 5W USB Official OEM Charger and Power Adapter for Fire Tablets and Kindle eReaders,,,\n",
      "Echo (White),,,\r\n",
      "Fire Tablet, 7 Display, Wi-Fi, 8 GB - Includes Special Offers, Tangerine\"\n",
      "Echo (Black),,,\r\n",
      "Amazon 9W PowerFast Official OEM USB Charger and Power Adapter for Fire Tablets and Kindle eReaders,,,\n",
      "Echo (Black),,,\r\n",
      "Echo (Black),,,\n",
      "Amazon Fire Tv,,,\r\n",
      "Kindle Dx Leather Cover, Black (fits 9.7 Display, Latest and 2nd Generation Kindle Dxs)\",,\n",
      "New Amazon Kindle Fire Hd 9w Powerfast Adapter Charger + Micro Usb Angle Cable,,,\r\n",
      "\n"
     ],
     "output_type": "stream"
    }
   ],
   "source": [
    "# Viewing the multiple names for the specific product.\n",
    "different_names = reviews[reviews[\"asins\"] == \"B00L9EPT8O,B01E6AO69U\"][\"name\"].unique()\n",
    "for name in different_names:\n",
    "    print(name)"
   ]
  },
  {
   "cell_type": "code",
   "execution_count": 62,
   "metadata": {
    "hidden": true,
    "pycharm": {
     "is_executing": false
    }
   },
   "outputs": [
    {
     "data": {
      "text/plain": "Echo (White),,,\\r\\nEcho (White),,,                                                                                                                                                                                  2318\nAmazon Fire Tv,,,\\r\\nAmazon Fire Tv,,,                                                                                                                                                                              2029\nAmazon - Amazon Tap Portable Bluetooth and Wi-Fi Speaker - Black,,,\\r\\nAmazon - Amazon Tap Portable Bluetooth and Wi-Fi Speaker - Black,,,                                                                           259\nAmazon Fire Hd 10 Tablet, Wi-Fi, 16 Gb, Special Offers - Silver Aluminum,,,\\r\\nAmazon Fire Hd 10 Tablet, Wi-Fi, 16 Gb, Special Offers - Silver Aluminum,,,                                                           106\nAmazon 9W PowerFast Official OEM USB Charger and Power Adapter for Fire Tablets and Kindle eReaders,,,\\r\\nAmazon 9W PowerFast Official OEM USB Charger and Power Adapter for Fire Tablets and Kindle eReaders,,,      28\nKindle Dx Leather Cover, Black (fits 9.7 Display, Latest and 2nd Generation Kindle Dxs),,                                                                                                                              7\nAmazon 5W USB Official OEM Charger and Power Adapter for Fire Tablets and Kindle eReaders,,,\\r\\nAmazon 5W USB Official OEM Charger and Power Adapter for Fire Tablets and Kindle eReaders,,,                           5\nAmazon Fire Hd 6 Standing Protective Case(4th Generation - 2014 Release), Cayenne Red,,,\\r\\nAmazon Fire Hd 6 Standing Protective Case(4th Generation - 2014 Release), Cayenne Red,,,                                   5\nNew Amazon Kindle Fire Hd 9w Powerfast Adapter Charger + Micro Usb Angle Cable,,,\\r\\nNew Amazon Kindle Fire Hd 9w Powerfast Adapter Charger + Micro Usb Angle Cable,,,                                                 5\nAmazon Kindle Fire 5ft USB to Micro-USB Cable (works with most Micro-USB Tablets),,,\\r\\nAmazon Kindle Fire 5ft USB to Micro-USB Cable (works with most Micro-USB Tablets),,,                                           4\nEcho (Black),,,\\r\\nEcho (Black),,,                                                                                                                                                                                     3\nAmazon Fire Hd 6 Standing Protective Case(4th Generation - 2014 Release), Cayenne Red,,,\\r\\nAmazon 5W USB Official OEM Charger and Power Adapter for Fire Tablets and Kindle eReaders,,,                               1\nAmazon Fire Tv,,,\\r\\nKindle Dx Leather Cover, Black (fits 9.7 Display, Latest and 2nd Generation Kindle Dxs)\",,                                                                                                        1\nEcho (White),,,\\r\\nFire Tablet, 7 Display, Wi-Fi, 8 GB - Includes Special Offers, Tangerine\"                                                                                                                           1\nNew Amazon Kindle Fire Hd 9w Powerfast Adapter Charger + Micro Usb Angle Cable,,,\\r\\n                                                                                                                                  1\nEcho (Black),,,\\r\\nAmazon 9W PowerFast Official OEM USB Charger and Power Adapter for Fire Tablets and Kindle eReaders,,,                                                                                              1\nName: name, dtype: int64"
     },
     "metadata": {},
     "output_type": "execute_result",
     "execution_count": 62
    }
   ],
   "source": [
    "# Counting the number of times the multiple names appear in the dataset for the specific product.\n",
    "reviews[reviews[\"asins\"] == \"B00L9EPT8O,B01E6AO69U\"][\"name\"].value_counts()"
   ]
  },
  {
   "cell_type": "markdown",
   "metadata": {
    "hidden": true
   },
   "source": [
    "**The information provided confirms the hypothesis that each ASIN can have multiple names. This notion highlights the \n",
    "importance of focusing on ASINs rather than product names.**"
   ]
  },
  {
   "cell_type": "code",
   "execution_count": 63,
   "metadata": {
    "hidden": true,
    "pycharm": {
     "is_executing": false
    }
   },
   "outputs": [
    {
     "data": {
      "text/plain": "<Figure size 1152x720 with 2 Axes>",
      "image/png": "[encoded data removed]"
     },
     "metadata": {
      "needs_background": "light"
     },
     "output_type": "display_data"
    }
   ],
   "source": [
    "# Displaying bar plot based on ASIN Frequency\n",
    "fig = plt.figure(figsize=(16,10))\n",
    "ax1 = plt.subplot(211)\n",
    "ax2 = plt.subplot(212, sharex = ax1)\n",
    "reviews[\"asins\"].value_counts().plot(kind=\"bar\", ax=ax1, title=\"ASIN Frequency\")\n",
    "np.log10(reviews[\"asins\"].value_counts()).plot(kind=\"bar\", ax=ax2, title=\"ASIN Frequency (Log10 Adjusted)\") \n",
    "plt.show()"
   ]
  },
  {
   "cell_type": "markdown",
   "metadata": {
    "hidden": true
   },
   "source": [
    "- Based on the bar graph for ASINs, certain products have significantly more reviews than other products, which may indicate a higher sale in those specific products.\n",
    "- The \"right tailed\" distribution of ASINs suggest that certain products have higher sales, which is correlated to the higher ASINs frequencies in the reviews.\n",
    "- The distribution follows a \"right tailed\" distribution even when adopting the log of the ASINs to normalize the data in order to portray an in-depth picture of each ASIN.\n",
    "\n",
    "**This proves that certain ASINs (products) have better sales than others presenting lower sales. Such knowledge could be used to dictates which products should be kept or removed.**"
   ]
  },
  {
   "cell_type": "markdown",
   "metadata": {
    "heading_collapsed": true,
    "hidden": true
   },
   "source": [
    "## 4.2 Analysing rating scores and ASINs frequency"
   ]
  },
  {
   "cell_type": "code",
   "execution_count": 64,
   "metadata": {
    "hidden": true,
    "pycharm": {
     "is_executing": false
    }
   },
   "outputs": [
    {
     "data": {
      "text/plain": "<Figure size 1152x864 with 2 Axes>",
      "image/png": "[encoded data removed]"
     },
     "metadata": {
      "needs_background": "light"
     },
     "output_type": "display_data"
    }
   ],
   "source": [
    "# Calculating average rating for the entire training dataset\n",
    "reviews[\"reviews.rating\"].mean()\n",
    "\n",
    "# Displaying point-plot graph for the average review ratings of each ASIN\n",
    "asins_count_ix = reviews[\"asins\"].value_counts().index\n",
    "plt.subplots(2,1,figsize=(16,12))\n",
    "plt.subplot(2,1,1)\n",
    "reviews[\"asins\"].value_counts().plot(kind=\"bar\", title=\"ASIN Frequency\")\n",
    "plt.subplot(2,1,2)\n",
    "sns.pointplot(x=\"asins\", y=\"reviews.rating\", order=asins_count_ix, data=reviews)\n",
    "plt.xticks(rotation=90)\n",
    "plt.show()"
   ]
  },
  {
   "cell_type": "markdown",
   "metadata": {
    "hidden": true
   },
   "source": [
    "Observations:\n",
    "- The most frequently reviewed products have their average review ratings in the range between 4.5 and 4.8 range with little variance.\n",
    "- The first 4 set of ASINs present a slightly inverse relationship between the ASIN frequency level and the average review rating scores. This relationship, however, is not significant due to the fact that the average rating for the first 4 ASINs is still in the range between 4.5 and 4.8, which is considerably good.\n",
    "- The corresponding average review rating scores, shown on the point-plot graph, for the ASINs with lower frequencies, displayed on the bar graph, have a distinctive higher variance, demonstrated by the length of the vertical lines. The lower frequencies of such ASINs may indicate a lower quality of products. Due to their high variance, the average ratings for ASINs with lower frequencies are not significant for the analysis.\n",
    "- Lastly, the last 4 product ASINs have no variance due to their significantly low frequencies, even though the review rating score corresponds to 5.0.\n",
    "\n",
    "**<u>Note</u>The point-plot graph automatically takes the average of the rating score data.**"
   ]
  },
  {
   "cell_type": "markdown",
   "metadata": {
    "heading_collapsed": true,
    "hidden": true
   },
   "source": [
    "## 4.3 Analysing recommendation scores and ASINs frequency"
   ]
  },
  {
   "cell_type": "code",
   "execution_count": 65,
   "metadata": {
    "hidden": true,
    "pycharm": {
     "is_executing": false
    }
   },
   "outputs": [
    {
     "data": {
      "text/plain": "<Figure size 1152x864 with 2 Axes>",
      "image/png": "[encoded data removed]"
     },
     "metadata": {
      "needs_background": "light"
     },
     "output_type": "display_data"
    }
   ],
   "source": [
    "# Displaying point-plot graph for the product recommendations of each ASIN\n",
    "plt.subplots (2,1,figsize=(16,12))\n",
    "plt.subplot(2,1,1)\n",
    "reviews[\"asins\"].value_counts().plot(kind=\"bar\", title=\"ASIN Frequency\")\n",
    "plt.subplot(2,1,2)\n",
    "sns.pointplot(x=\"asins\", y=\"reviews.doRecommend\", order=asins_count_ix, data=reviews)\n",
    "plt.xticks(rotation=90)\n",
    "plt.show() "
   ]
  },
  {
   "cell_type": "markdown",
   "metadata": {
    "hidden": true
   },
   "source": [
    "- From the above analysis, the first 19 ASINs are recommended by consumers, this information is consistent with the rating scores as they present values in the range between 4.0 and 5.0.\n",
    "- Regarding the remaining ASINs, they present fluctuating results due to the lower sample size.\n",
    "\n",
    "**<u>Note</u>: The textual content of the reviews is analyzed in the SA classifier.**"
   ]
  },
  {
   "cell_type": "markdown",
   "metadata": {
    "heading_collapsed": true
   },
   "source": [
    "# 5 Correlation matrix"
   ]
  },
  {
   "cell_type": "code",
   "execution_count": 66,
   "metadata": {
    "hidden": true,
    "pycharm": {
     "is_executing": false
    },
    "scrolled": true
   },
   "outputs": [
    {
     "data": {
      "text/plain": "                      reviews.id  reviews.numHelpful  reviews.rating  \\\nreviews.id                   NaN                 NaN             NaN   \nreviews.numHelpful           NaN             1.00000        -0.04372   \nreviews.rating               NaN            -0.04372         1.00000   \nreviews.userCity             NaN                 NaN             NaN   \nreviews.userProvince         NaN                 NaN             NaN   \n\n                      reviews.userCity  reviews.userProvince  \nreviews.id                         NaN                   NaN  \nreviews.numHelpful                 NaN                   NaN  \nreviews.rating                     NaN                   NaN  \nreviews.userCity                   NaN                   NaN  \nreviews.userProvince               NaN                   NaN  ",
      "text/html": "<div>\n<style scoped>\n    .dataframe tbody tr th:only-of-type {\n        vertical-align: middle;\n    }\n\n    .dataframe tbody tr th {\n        vertical-align: top;\n    }\n\n    .dataframe thead th {\n        text-align: right;\n    }\n</style>\n<table border=\"1\" class=\"dataframe\">\n  <thead>\n    <tr style=\"text-align: right;\">\n      <th></th>\n      <th>reviews.id</th>\n      <th>reviews.numHelpful</th>\n      <th>reviews.rating</th>\n      <th>reviews.userCity</th>\n      <th>reviews.userProvince</th>\n    </tr>\n  </thead>\n  <tbody>\n    <tr>\n      <th>reviews.id</th>\n      <td>NaN</td>\n      <td>NaN</td>\n      <td>NaN</td>\n      <td>NaN</td>\n      <td>NaN</td>\n    </tr>\n    <tr>\n      <th>reviews.numHelpful</th>\n      <td>NaN</td>\n      <td>1.00000</td>\n      <td>-0.04372</td>\n      <td>NaN</td>\n      <td>NaN</td>\n    </tr>\n    <tr>\n      <th>reviews.rating</th>\n      <td>NaN</td>\n      <td>-0.04372</td>\n      <td>1.00000</td>\n      <td>NaN</td>\n      <td>NaN</td>\n    </tr>\n    <tr>\n      <th>reviews.userCity</th>\n      <td>NaN</td>\n      <td>NaN</td>\n      <td>NaN</td>\n      <td>NaN</td>\n      <td>NaN</td>\n    </tr>\n    <tr>\n      <th>reviews.userProvince</th>\n      <td>NaN</td>\n      <td>NaN</td>\n      <td>NaN</td>\n      <td>NaN</td>\n      <td>NaN</td>\n    </tr>\n  </tbody>\n</table>\n</div>"
     },
     "metadata": {},
     "output_type": "execute_result",
     "execution_count": 66
    }
   ],
   "source": [
    "# Correlation matrix to analyze reviews ratings with ASINs\n",
    "corr_matrix = reviews.corr()\n",
    "corr_matrix\n"
   ]
  },
  {
   "cell_type": "code",
   "execution_count": 67,
   "metadata": {
    "hidden": true,
    "pycharm": {
     "is_executing": false
    }
   },
   "outputs": [
    {
     "name": "stdout",
     "text": [
      "<class 'pandas.core.frame.DataFrame'>\n",
      "Int64Index: 27701 entries, 4349 to 29636\n",
      "Data columns (total 21 columns):\n",
      " #   Column                Non-Null Count  Dtype  \n",
      "---  ------                --------------  -----  \n",
      " 0   id                    27673 non-null  object \n",
      " 1   name                  22268 non-null  object \n",
      " 2   asins                 27672 non-null  object \n",
      " 3   brand                 27673 non-null  object \n",
      " 4   categories            27673 non-null  object \n",
      " 5   keys                  27673 non-null  object \n",
      " 6   manufacturer          27673 non-null  object \n",
      " 7   reviews.date          27659 non-null  object \n",
      " 8   reviews.dateAdded     19228 non-null  object \n",
      " 9   reviews.dateSeen      27673 non-null  object \n",
      " 10  reviews.didPurchase   1 non-null      object \n",
      " 11  reviews.doRecommend   27257 non-null  object \n",
      " 12  reviews.id            1 non-null      float64\n",
      " 13  reviews.numHelpful    27304 non-null  float64\n",
      " 14  reviews.rating        27673 non-null  float64\n",
      " 15  reviews.sourceURLs    27673 non-null  object \n",
      " 16  reviews.text          27672 non-null  object \n",
      " 17  reviews.title         27668 non-null  object \n",
      " 18  reviews.userCity      0 non-null      float64\n",
      " 19  reviews.userProvince  0 non-null      float64\n",
      " 20  reviews.username      27671 non-null  object \n",
      "dtypes: float64(5), object(16)\n",
      "memory usage: 5.9+ MB\n"
     ],
     "output_type": "stream"
    }
   ],
   "source": [
    "# Viewing summary of the training data for exploratory analysis of the data\n",
    "reviews.info()"
   ]
  },
  {
   "cell_type": "code",
   "execution_count": 68,
   "metadata": {
    "hidden": true,
    "pycharm": {
     "is_executing": false
    }
   },
   "outputs": [
    {
     "data": {
      "text/plain": "                       asins\nB018Y229OU              8772\nB00L9EPT8O,B01E6AO69U   5304\nB00U3FPN4U              4076\nB00OQVZDJM              2525\nB01AHB9CN2              2241",
      "text/html": "<div>\n<style scoped>\n    .dataframe tbody tr th:only-of-type {\n        vertical-align: middle;\n    }\n\n    .dataframe tbody tr th {\n        vertical-align: top;\n    }\n\n    .dataframe thead th {\n        text-align: right;\n    }\n</style>\n<table border=\"1\" class=\"dataframe\">\n  <thead>\n    <tr style=\"text-align: right;\">\n      <th></th>\n      <th>asins</th>\n    </tr>\n  </thead>\n  <tbody>\n    <tr>\n      <th>B018Y229OU</th>\n      <td>8772</td>\n    </tr>\n    <tr>\n      <th>B00L9EPT8O,B01E6AO69U</th>\n      <td>5304</td>\n    </tr>\n    <tr>\n      <th>B00U3FPN4U</th>\n      <td>4076</td>\n    </tr>\n    <tr>\n      <th>B00OQVZDJM</th>\n      <td>2525</td>\n    </tr>\n    <tr>\n      <th>B01AHB9CN2</th>\n      <td>2241</td>\n    </tr>\n  </tbody>\n</table>\n</div>"
     },
     "metadata": {},
     "output_type": "execute_result",
     "execution_count": 68
    }
   ],
   "source": [
    "# Counting the number of reviews for each ASIN and displaying information\n",
    "counts = reviews[\"asins\"].value_counts().to_frame()\n",
    "counts.head()"
   ]
  },
  {
   "cell_type": "code",
   "execution_count": 69,
   "metadata": {
    "hidden": true,
    "pycharm": {
     "is_executing": false
    },
    "scrolled": true
   },
   "outputs": [
    {
     "data": {
      "text/plain": "                       reviews.rating\nasins                                \nB005PB2T0S                   4.000000\nB005PB2T2Q                   3.400000\nB00IOY8XWQ                   4.731183\nB00IOYAM4I                   4.900000\nB00L9EPT8O,B01E6AO69U        4.663462",
      "text/html": "<div>\n<style scoped>\n    .dataframe tbody tr th:only-of-type {\n        vertical-align: middle;\n    }\n\n    .dataframe tbody tr th {\n        vertical-align: top;\n    }\n\n    .dataframe thead th {\n        text-align: right;\n    }\n</style>\n<table border=\"1\" class=\"dataframe\">\n  <thead>\n    <tr style=\"text-align: right;\">\n      <th></th>\n      <th>reviews.rating</th>\n    </tr>\n    <tr>\n      <th>asins</th>\n      <th></th>\n    </tr>\n  </thead>\n  <tbody>\n    <tr>\n      <th>B005PB2T0S</th>\n      <td>4.000000</td>\n    </tr>\n    <tr>\n      <th>B005PB2T2Q</th>\n      <td>3.400000</td>\n    </tr>\n    <tr>\n      <th>B00IOY8XWQ</th>\n      <td>4.731183</td>\n    </tr>\n    <tr>\n      <th>B00IOYAM4I</th>\n      <td>4.900000</td>\n    </tr>\n    <tr>\n      <th>B00L9EPT8O,B01E6AO69U</th>\n      <td>4.663462</td>\n    </tr>\n  </tbody>\n</table>\n</div>"
     },
     "metadata": {},
     "output_type": "execute_result",
     "execution_count": 69
    }
   ],
   "source": [
    "# Calculating average rating for each ASIN and displaying information\n",
    "avg_rating = reviews.groupby(\"asins\")[\"reviews.rating\"].mean().to_frame()\n",
    "avg_rating.head()"
   ]
  },
  {
   "cell_type": "code",
   "execution_count": 70,
   "metadata": {
    "hidden": true,
    "pycharm": {
     "is_executing": false
    }
   },
   "outputs": [
    {
     "data": {
      "text/plain": "                       asins  reviews.rating\nB018Y229OU              8772        4.453032\nB00L9EPT8O,B01E6AO69U   5304        4.663462\nB00U3FPN4U              4076        4.709028\nB00OQVZDJM              2525        4.774653\nB01AHB9CN2              2241        4.586792\nB018Y23MNM              1346        4.511887\nB018Y225IA               811        4.498150\nB01BH83OOM               504        4.539683\nB00IOY8XWQ               465        4.731183\nB01J2G4VBG               322        4.422360\nB00TSUGXKE               300        4.456667\nB018SZT3BK               217        4.557604\nB0189XYY0Q               208        4.557692\nB00ZV9PXP2               178        4.516854\nB01AHB9CYG               132        4.628788\nB00QFQRELG                54        4.277778\nB00VINDBJK                48        4.645833\nB00IOYAM4I                40        4.900000\nB01BFIBRIE                20        4.700000\nB00QL1ZN3G                15        3.066667",
      "text/html": "<div>\n<style scoped>\n    .dataframe tbody tr th:only-of-type {\n        vertical-align: middle;\n    }\n\n    .dataframe tbody tr th {\n        vertical-align: top;\n    }\n\n    .dataframe thead th {\n        text-align: right;\n    }\n</style>\n<table border=\"1\" class=\"dataframe\">\n  <thead>\n    <tr style=\"text-align: right;\">\n      <th></th>\n      <th>asins</th>\n      <th>reviews.rating</th>\n    </tr>\n  </thead>\n  <tbody>\n    <tr>\n      <th>B018Y229OU</th>\n      <td>8772</td>\n      <td>4.453032</td>\n    </tr>\n    <tr>\n      <th>B00L9EPT8O,B01E6AO69U</th>\n      <td>5304</td>\n      <td>4.663462</td>\n    </tr>\n    <tr>\n      <th>B00U3FPN4U</th>\n      <td>4076</td>\n      <td>4.709028</td>\n    </tr>\n    <tr>\n      <th>B00OQVZDJM</th>\n      <td>2525</td>\n      <td>4.774653</td>\n    </tr>\n    <tr>\n      <th>B01AHB9CN2</th>\n      <td>2241</td>\n      <td>4.586792</td>\n    </tr>\n    <tr>\n      <th>B018Y23MNM</th>\n      <td>1346</td>\n      <td>4.511887</td>\n    </tr>\n    <tr>\n      <th>B018Y225IA</th>\n      <td>811</td>\n      <td>4.498150</td>\n    </tr>\n    <tr>\n      <th>B01BH83OOM</th>\n      <td>504</td>\n      <td>4.539683</td>\n    </tr>\n    <tr>\n      <th>B00IOY8XWQ</th>\n      <td>465</td>\n      <td>4.731183</td>\n    </tr>\n    <tr>\n      <th>B01J2G4VBG</th>\n      <td>322</td>\n      <td>4.422360</td>\n    </tr>\n    <tr>\n      <th>B00TSUGXKE</th>\n      <td>300</td>\n      <td>4.456667</td>\n    </tr>\n    <tr>\n      <th>B018SZT3BK</th>\n      <td>217</td>\n      <td>4.557604</td>\n    </tr>\n    <tr>\n      <th>B0189XYY0Q</th>\n      <td>208</td>\n      <td>4.557692</td>\n    </tr>\n    <tr>\n      <th>B00ZV9PXP2</th>\n      <td>178</td>\n      <td>4.516854</td>\n    </tr>\n    <tr>\n      <th>B01AHB9CYG</th>\n      <td>132</td>\n      <td>4.628788</td>\n    </tr>\n    <tr>\n      <th>B00QFQRELG</th>\n      <td>54</td>\n      <td>4.277778</td>\n    </tr>\n    <tr>\n      <th>B00VINDBJK</th>\n      <td>48</td>\n      <td>4.645833</td>\n    </tr>\n    <tr>\n      <th>B00IOYAM4I</th>\n      <td>40</td>\n      <td>4.900000</td>\n    </tr>\n    <tr>\n      <th>B01BFIBRIE</th>\n      <td>20</td>\n      <td>4.700000</td>\n    </tr>\n    <tr>\n      <th>B00QL1ZN3G</th>\n      <td>15</td>\n      <td>3.066667</td>\n    </tr>\n  </tbody>\n</table>\n</div>"
     },
     "metadata": {},
     "output_type": "execute_result",
     "execution_count": 70
    }
   ],
   "source": [
    "# Joining previous results into one table and displaying information\n",
    "table = counts.join(avg_rating)\n",
    "table.head(20)"
   ]
  },
  {
   "cell_type": "code",
   "execution_count": 71,
   "metadata": {
    "hidden": true,
    "pycharm": {
     "is_executing": false
    },
    "scrolled": true
   },
   "outputs": [
    {
     "data": {
      "text/plain": "                   asins  reviews.rating\nasins           1.000000        0.099791\nreviews.rating  0.099791        1.000000",
      "text/html": "<div>\n<style scoped>\n    .dataframe tbody tr th:only-of-type {\n        vertical-align: middle;\n    }\n\n    .dataframe tbody tr th {\n        vertical-align: top;\n    }\n\n    .dataframe thead th {\n        text-align: right;\n    }\n</style>\n<table border=\"1\" class=\"dataframe\">\n  <thead>\n    <tr style=\"text-align: right;\">\n      <th></th>\n      <th>asins</th>\n      <th>reviews.rating</th>\n    </tr>\n  </thead>\n  <tbody>\n    <tr>\n      <th>asins</th>\n      <td>1.000000</td>\n      <td>0.099791</td>\n    </tr>\n    <tr>\n      <th>reviews.rating</th>\n      <td>0.099791</td>\n      <td>1.000000</td>\n    </tr>\n  </tbody>\n</table>\n</div>"
     },
     "metadata": {},
     "output_type": "execute_result",
     "execution_count": 71
    },
    {
     "data": {
      "text/plain": "<Figure size 432x288 with 1 Axes>",
      "image/png": "[encoded data removed]"
     },
     "metadata": {
      "needs_background": "light"
     },
     "output_type": "display_data"
    }
   ],
   "source": [
    "# Displaying scatter plot of the joined table\n",
    "plt.scatter(\"asins\", \"reviews.rating\", data=table)\n",
    "table.corr()"
   ]
  },
  {
   "cell_type": "markdown",
   "metadata": {
    "hidden": true
   },
   "source": [
    "From the analysis in data exploration between the ASINs and the rating scores, it was discovered the presence of many products with low occurrence having a high variance. The low occurring ASINs are considered not significant due to the low sample size.\n",
    "<br>"
   ]
  },
  {
   "cell_type": "markdown",
   "metadata": {
    "heading_collapsed": true
   },
   "source": [
    "# 6 Sentiment Analysis"
   ]
  },
  {
   "cell_type": "markdown",
   "metadata": {
    "hidden": true
   },
   "source": [
    "Using the features provided, the aim is to build a classifier that can determine a review's sentiment."
   ]
  },
  {
   "cell_type": "markdown",
   "metadata": {
    "heading_collapsed": true,
    "hidden": true
   },
   "source": [
    "## 6.1 Setting Target Variable (Sentiments)"
   ]
  },
  {
   "cell_type": "markdown",
   "metadata": {
    "hidden": true
   },
   "source": [
    "Segregate ratings from 1-5 into positive, neutral, and negative."
   ]
  },
  {
   "cell_type": "code",
   "execution_count": 72,
   "metadata": {
    "hidden": true,
    "pycharm": {
     "is_executing": false
    },
    "scrolled": true
   },
   "outputs": [
    {
     "data": {
      "text/plain": "4349     Positive\n30776    Positive\n28775     Neutral\n1136     Positive\n17803    Positive\n7336     Positive\n32638    Positive\n13995    Positive\n6728     Negative\n22009    Positive\n11047    Positive\n22754    Positive\n5578     Positive\n11673    Positive\n19168    Positive\n14903    Positive\n30843    Positive\n5440     Positive\n28940    Positive\n31258    Positive\nName: Sentiment, dtype: object"
     },
     "metadata": {},
     "output_type": "execute_result",
     "execution_count": 72
    }
   ],
   "source": [
    "# Segregating ratings from 1-5 into positive, neutral and negative\n",
    "def sentiments(rating):\n",
    "    if (rating == 5) or (rating == 4):\n",
    "        return \"Positive\"\n",
    "    elif rating == 3:\n",
    "        return \"Neutral\"\n",
    "    elif (rating == 2) or (rating == 1):\n",
    "        return \"Negative\"\n",
    "    \n",
    "# Applying sentiments to the data\n",
    "strat_train[\"Sentiment\"] = strat_train[\"reviews.rating\"].apply(sentiments)\n",
    "strat_test[\"Sentiment\"] = strat_test[\"reviews.rating\"].apply(sentiments)\n",
    "strat_train[\"Sentiment\"][:20]"
   ]
  },
  {
   "cell_type": "code",
   "execution_count": 73,
   "metadata": {
    "hidden": true,
    "pycharm": {
     "is_executing": false
    },
    "scrolled": false
   },
   "outputs": [
    {
     "name": "stdout",
     "text": [
      "27701 6926\n"
     ],
     "output_type": "stream"
    }
   ],
   "source": [
    "# Preparing data\n",
    "X_train = strat_train[\"reviews.text\"]\n",
    "X_train_targetSentiment = strat_train[\"Sentiment\"]\n",
    "X_test = strat_test[\"reviews.text\"]\n",
    "X_test_targetSentiment = strat_test[\"Sentiment\"]\n",
    "# Showing training and testing sample dimension\n",
    "print(len(X_train), len(X_test))"
   ]
  },
  {
   "cell_type": "markdown",
   "metadata": {
    "hidden": true
   },
   "source": [
    "27,701 training samples and 6926 testing samples."
   ]
  },
  {
   "cell_type": "markdown",
   "metadata": {
    "heading_collapsed": true,
    "hidden": true
   },
   "source": [
    "## 6.2 Extract Features"
   ]
  },
  {
   "cell_type": "markdown",
   "metadata": {
    "hidden": true
   },
   "source": [
    "Here we will turn the textual content of the reviews into numerical feature vectors using the **Bag of Words** strategy:\n",
    "- Assign fixed integer id to each word occurrence (integer indices to build a word occurrence dictionary)\n",
    "- X[i,j] where i is the integer indices, j is the word occurrence, and X is an array of words (the training set)\n",
    "<br>\n",
    "<br>\n",
    "\n",
    "In order to implement the **Bag of Words** strategy, SciKit-Learn's **CountVectorizer** is utilised to perform the following:\n",
    "- Text pre-processing:\n",
    "    - Tokenization (breaking sentences into words)\n",
    "    - Stopwords (filtering \"the\", \"are\", etc)\n",
    "- Occurrence counting (builds a dictionary of features from integer indices with word occurrences)\n",
    "- Feature Vector (converts the dictionary of text documents into a feature vector)"
   ]
  },
  {
   "cell_type": "code",
   "execution_count": 74,
   "metadata": {
    "hidden": true,
    "pycharm": {
     "is_executing": false
    }
   },
   "outputs": [
    {
     "data": {
      "text/plain": "(27701, 12526)"
     },
     "metadata": {},
     "output_type": "execute_result",
     "execution_count": 74
    }
   ],
   "source": [
    "# Replacing \"NaN\" with space\n",
    "X_train = X_train.fillna(' ')\n",
    "X_test = X_test.fillna(' ')\n",
    "X_train_targetSentiment = X_train_targetSentiment.fillna(' ')\n",
    "X_test_targetSentiment = X_test_targetSentiment.fillna(' ')\n",
    "\n",
    "# Extracting features vectors with the Bag of Words strategy using SciKit-Learn CountVectorizer for text preprocessing\n",
    "# and occurance counting\n",
    "from sklearn.feature_extraction.text import CountVectorizer \n",
    "count_vect = CountVectorizer()\n",
    "X_train_counts = count_vect.fit_transform(X_train) \n",
    "X_train_counts.shape"
   ]
  },
  {
   "cell_type": "markdown",
   "metadata": {
    "hidden": true
   },
   "source": [
    "The training set is made of 27,701 entries and 12,526 distinct words have been detected in the set.\n",
    "\n",
    "\n",
    "Furthermore, longer documents typically present a higher average count value on words that are not much informative, dominating shorter documents that present lower average counts with same frequencies.\n",
    "For the following reason, **TfidfTransformer** is utilised to reduce the redundancy:\n",
    "- Term Frequencies (**Tf**) divides number of occurrences for each word by total number of words\n",
    "- Term Frequencies times Inverse Document Frequency (**Tfidf**) downscales the weights of each word (assigns less value to unimportant stop words ie. \"the\", \"are\", etc)"
   ]
  },
  {
   "cell_type": "code",
   "execution_count": 75,
   "metadata": {
    "hidden": true,
    "pycharm": {
     "is_executing": false
    },
    "scrolled": false
   },
   "outputs": [
    {
     "data": {
      "text/plain": "(27701, 12526)"
     },
     "metadata": {},
     "output_type": "execute_result",
     "execution_count": 75
    }
   ],
   "source": [
    "# Transforming count matrix to a normalized tf representation in order to scale down the impact of tokens that occur\n",
    "# more frequently but that are less informative than features that occur in a small friction\n",
    "from sklearn.feature_extraction.text import TfidfTransformer\n",
    "tfidf_transformer = TfidfTransformer(use_idf=False)\n",
    "X_train_tfidf = tfidf_transformer.fit_transform(X_train_counts)\n",
    "X_train_tfidf.shape"
   ]
  },
  {
   "cell_type": "markdown",
   "metadata": {
    "heading_collapsed": true,
    "hidden": true
   },
   "source": [
    "## 6.3 Building a Pipeline from the Extracted Features"
   ]
  },
  {
   "cell_type": "markdown",
   "metadata": {
    "hidden": true
   },
   "source": [
    "**Multinominal Naive Bayes** Classifier\n",
    "- Multinominal Niave Bayes is considered the most suitable for word counts where data are typically represented as **word vector counts** (number of times outcome number X[i,j] is observed over the number of trials), while also ignoring non-occurrences of a feature i\n",
    "- Naive Bayes is a simplified version of Bayes Theorem, where all features are assumed to be conditionally independent to each other, P(x|y) where x is the feature and y is the classifier"
   ]
  },
  {
   "cell_type": "code",
   "execution_count": 76,
   "metadata": {
    "hidden": true,
    "pycharm": {
     "is_executing": false
    },
    "scrolled": true
   },
   "outputs": [
    {
     "data": {
      "text/plain": "Pipeline(memory=None,\n         steps=[('vect',\n                 CountVectorizer(analyzer='word', binary=False,\n                                 decode_error='strict',\n                                 dtype=<class 'numpy.int64'>, encoding='utf-8',\n                                 input='content', lowercase=True, max_df=1.0,\n                                 max_features=None, min_df=1,\n                                 ngram_range=(1, 1), preprocessor=None,\n                                 stop_words=None, strip_accents=None,\n                                 token_pattern='(?u)\\\\b\\\\w\\\\w+\\\\b',\n                                 tokenizer=None, vocabulary=None)),\n                ('tfidf',\n                 TfidfTransformer(norm='l2', smooth_idf=True,\n                                  sublinear_tf=False, use_idf=True)),\n                ('clf_nominalNB',\n                 MultinomialNB(alpha=1.0, class_prior=None, fit_prior=True))],\n         verbose=False)"
     },
     "metadata": {},
     "output_type": "execute_result",
     "execution_count": 76
    }
   ],
   "source": [
    "# Building a Multinomial Naive Bayes Classifier from the extracted features\n",
    "from sklearn.naive_bayes import MultinomialNB\n",
    "from sklearn.pipeline import Pipeline\n",
    "clf_multiNB_pipe = Pipeline([(\"vect\", CountVectorizer()), (\"tfidf\", TfidfTransformer()), (\"clf_nominalNB\", MultinomialNB())])\n",
    "clf_multiNB_pipe.fit(X_train, X_train_targetSentiment)"
   ]
  },
  {
   "cell_type": "markdown",
   "metadata": {
    "heading_collapsed": true,
    "hidden": true
   },
   "source": [
    "## 6.4 Test Model"
   ]
  },
  {
   "cell_type": "code",
   "execution_count": 77,
   "metadata": {
    "hidden": true,
    "pycharm": {
     "is_executing": false
    },
    "scrolled": true
   },
   "outputs": [
    {
     "data": {
      "text/plain": "0.9344498989315623"
     },
     "metadata": {},
     "output_type": "execute_result",
     "execution_count": 77
    }
   ],
   "source": [
    "import numpy as np\n",
    "# Testing Multinomial Naive Bayes Classifier and displaying accuracy\n",
    "predictedMultiNB = clf_multiNB_pipe.predict(X_test)\n",
    "np.mean(predictedMultiNB == X_test_targetSentiment)"
   ]
  },
  {
   "cell_type": "markdown",
   "metadata": {
    "hidden": true
   },
   "source": [
    "The Multinomial Naive Bayes Classifier presents a 93.45% accuracy level based on the features. \n",
    "<br>\n",
    "<br>\n",
    "Subsequently, other classifiers will be tested and the best models will be fine tuned to avoid over-fitting.\n"
   ]
  },
  {
   "cell_type": "markdown",
   "metadata": {
    "heading_collapsed": true,
    "hidden": true
   },
   "source": [
    "## 6.5 Testing Other Models"
   ]
  },
  {
   "cell_type": "markdown",
   "metadata": {
    "hidden": true
   },
   "source": [
    "**Logistic Regression Classifier**"
   ]
  },
  {
   "cell_type": "code",
   "execution_count": 78,
   "metadata": {
    "hidden": true,
    "pycharm": {
     "is_executing": false
    }
   },
   "outputs": [
    {
     "data": {
      "text/plain": "0.9392145538550389"
     },
     "metadata": {},
     "output_type": "execute_result",
     "execution_count": 78
    }
   ],
   "source": [
    "# Building a Logistic Regression Classifier from the extracted features\n",
    "from sklearn.linear_model import LogisticRegression\n",
    "from sklearn.pipeline import Pipeline\n",
    "clf_logReg_pipe = Pipeline([(\"vect\", CountVectorizer()), (\"tfidf\", TfidfTransformer()), (\"clf_logReg\", LogisticRegression())])\n",
    "clf_logReg_pipe.fit(X_train, X_train_targetSentiment)\n",
    "\n",
    "import numpy as np\n",
    "# Testing Logistic Regression Classifier and displaying accuracy\n",
    "predictedLogReg = clf_logReg_pipe.predict(X_test)\n",
    "np.mean(predictedLogReg == X_test_targetSentiment)"
   ]
  },
  {
   "cell_type": "markdown",
   "metadata": {
    "hidden": true
   },
   "source": [
    "**Support Vector Machine Classifier**"
   ]
  },
  {
   "cell_type": "code",
   "execution_count": 79,
   "metadata": {
    "hidden": true,
    "pycharm": {
     "is_executing": false
    }
   },
   "outputs": [
    {
     "data": {
      "text/plain": "0.9393589373375686"
     },
     "metadata": {},
     "output_type": "execute_result",
     "execution_count": 79
    }
   ],
   "source": [
    "# Building a Support Vector Machine Classifier from the extracted features\n",
    "from sklearn.svm import LinearSVC\n",
    "clf_linearSVC_pipe = Pipeline([(\"vect\", CountVectorizer()), (\"tfidf\", TfidfTransformer()), (\"clf_linearSVC\", LinearSVC())])\n",
    "clf_linearSVC_pipe.fit(X_train, X_train_targetSentiment)\n",
    "\n",
    "# Testing Support Vector Machine Classifier and displaying accuracy\n",
    "predictedLinearSVC = clf_linearSVC_pipe.predict(X_test)\n",
    "np.mean(predictedLinearSVC == X_test_targetSentiment)"
   ]
  },
  {
   "cell_type": "markdown",
   "metadata": {
    "hidden": true
   },
   "source": [
    "**Decision Tree Classifier**"
   ]
  },
  {
   "cell_type": "code",
   "execution_count": 80,
   "metadata": {
    "hidden": true,
    "pycharm": {
     "is_executing": false
    }
   },
   "outputs": [
    {
     "data": {
      "text/plain": "0.9016748483973434"
     },
     "metadata": {},
     "output_type": "execute_result",
     "execution_count": 80
    }
   ],
   "source": [
    "# Building a Decision Tree Classifier from the extracted features\n",
    "from sklearn.tree import DecisionTreeClassifier\n",
    "clf_decisionTree_pipe = Pipeline([(\"vect\", CountVectorizer()), (\"tfidf\", TfidfTransformer()), \n",
    "                                  (\"clf_decisionTree\", DecisionTreeClassifier())])\n",
    "clf_decisionTree_pipe.fit(X_train, X_train_targetSentiment)\n",
    "\n",
    "# Testing Decision Tree Classifier and displaying accuracy\n",
    "predictedDecisionTree = clf_decisionTree_pipe.predict(X_test)\n",
    "np.mean(predictedDecisionTree == X_test_targetSentiment)"
   ]
  },
  {
   "cell_type": "markdown",
   "metadata": {
    "hidden": true
   },
   "source": [
    "**Random Forest Classifier**"
   ]
  },
  {
   "cell_type": "code",
   "execution_count": 81,
   "metadata": {
    "hidden": true,
    "pycharm": {
     "is_executing": false
    },
    "scrolled": true
   },
   "outputs": [
    {
     "data": {
      "text/plain": "0.9350274328616807"
     },
     "metadata": {},
     "output_type": "execute_result",
     "execution_count": 81
    }
   ],
   "source": [
    "# Building a Random Forest Classifier from the extracted features\n",
    "from sklearn.ensemble import RandomForestClassifier\n",
    "clf_randomForest_pipe = Pipeline([(\"vect\", CountVectorizer()), (\"tfidf\", TfidfTransformer()), (\"clf_randomForest\", RandomForestClassifier())])\n",
    "clf_randomForest_pipe.fit(X_train, X_train_targetSentiment)\n",
    "\n",
    "# Testing Random Forest Classifier and displaying accuracy\n",
    "predictedRandomForest = clf_randomForest_pipe.predict(X_test)\n",
    "np.mean(predictedRandomForest == X_test_targetSentiment)"
   ]
  },
  {
   "cell_type": "markdown",
   "metadata": {
    "hidden": true
   },
   "source": [
    "The perfomance of the various models is very high (>90%). The **Support Vector Machine Classifier** will be utilised to fine tune, since it has the highest accuracy level of **93.94%**.\n",
    "<br>"
   ]
  },
  {
   "cell_type": "markdown",
   "metadata": {
    "heading_collapsed": true,
    "hidden": true
   },
   "source": [
    "## 6.6 Fine tuning the Support Vector Machine Classifier"
   ]
  },
  {
   "cell_type": "markdown",
   "metadata": {
    "hidden": true
   },
   "source": [
    "- A **Grid Search** of the best parameters is run on a grid of possible values, instead of tweaking the parameters of various components of the chain (ie. use_idf in tfidftransformer).\n",
    "- The grid search is also run with LinearSVC classifier pipeline, parameters and cpu core maximization.\n",
    "- The grid search is then applied to the training data set.\n",
    "- The fine tuned classifier is then tested on arbitrary reviews and on the testing dataset to retrieve the accuracy.\n",
    "\n",
    "**Support Vector Machines** are considered to be very suitable for classification problems by measuring extreme values between classes in order to differentiate the worst case scenarios, enabling the classification between Positive, Neutral and Negative correctly."
   ]
  },
  {
   "cell_type": "code",
   "execution_count": 82,
   "metadata": {
    "hidden": true,
    "pycharm": {
     "is_executing": false
    }
   },
   "outputs": [
    {
     "data": {
      "text/plain": "Positive    NaN\nNeutral     NaN\nNegative    NaN\nName: Sentiment, dtype: object"
     },
     "metadata": {},
     "output_type": "execute_result",
     "execution_count": 82
    }
   ],
   "source": [
    "# Fine tuning the Support Vector Machine Classifier running a Grid Search of the best parameters\n",
    "from sklearn.model_selection import GridSearchCV\n",
    "parameters = {'vect__ngram_range': [(1, 1), (1, 2)],    \n",
    "             'tfidf__use_idf': (True, False), \n",
    "             } \n",
    "# Running Grid Search with LinearSVC classifier pipeline, parameters and cpu core maximization\n",
    "gs_clf_LinearSVC_pipe = GridSearchCV(clf_linearSVC_pipe, parameters, n_jobs=-1)\n",
    "gs_clf_LinearSVC_pipe = gs_clf_LinearSVC_pipe.fit(X_train, X_train_targetSentiment)\n",
    "new_text = [\"The tablet is good, really liked it.\", # positive\n",
    "            \"The tablet is ok, but it works fine.\", # neutral\n",
    "            \"The tablet is not good, does not work very well.\"] # negative\n",
    "\n",
    "X_train_targetSentiment[gs_clf_LinearSVC_pipe.predict(new_text)]"
   ]
  },
  {
   "cell_type": "code",
   "execution_count": 83,
   "metadata": {
    "hidden": true,
    "pycharm": {
     "is_executing": false
    }
   },
   "outputs": [
    {
     "data": {
      "text/plain": "0.9408027721628646"
     },
     "metadata": {},
     "output_type": "execute_result",
     "execution_count": 83
    }
   ],
   "source": [
    "# Testing on arbitrary reviews and displaying accuracy\n",
    "predictedGS_clf_LinearSVC_pipe = gs_clf_LinearSVC_pipe.predict(X_test)\n",
    "np.mean(predictedGS_clf_LinearSVC_pipe == X_test_targetSentiment)"
   ]
  },
  {
   "cell_type": "markdown",
   "metadata": {
    "hidden": true
   },
   "source": [
    "**Results:**\n",
    "- After testing on arbitrary reviews, the features are performing correctly with Positive, Neutral, Negative results\n",
    "- After running the grid search, the Support Vector Machine Classifier has improved to **94.08%** in accuracy."
   ]
  },
  {
   "cell_type": "markdown",
   "metadata": {
    "heading_collapsed": true,
    "hidden": true
   },
   "source": [
    "## 6.7 Detailed Performance Analysis of Support Vector Machine Classifier"
   ]
  },
  {
   "cell_type": "markdown",
   "metadata": {
    "hidden": true
   },
   "source": [
    "For detailed analysis, we will:\n",
    "- Analyze the best mean score of the grid search (classifier, parameters, CPU core)\n",
    "- Analyze the best estimator\n",
    "- Analyze the best parameter"
   ]
  },
  {
   "cell_type": "code",
   "execution_count": 84,
   "metadata": {
    "hidden": true,
    "pycharm": {
     "is_executing": false
    },
    "scrolled": true
   },
   "outputs": [
    {
     "name": "stdout",
     "text": [
      "0.9366809937342697\n",
      "Pipeline(memory=None,\n",
      "         steps=[('vect',\n",
      "                 CountVectorizer(analyzer='word', binary=False,\n",
      "                                 decode_error='strict',\n",
      "                                 dtype=<class 'numpy.int64'>, encoding='utf-8',\n",
      "                                 input='content', lowercase=True, max_df=1.0,\n",
      "                                 max_features=None, min_df=1,\n",
      "                                 ngram_range=(1, 2), preprocessor=None,\n",
      "                                 stop_words=None, strip_accents=None,\n",
      "                                 token_pattern='(?u)\\\\b\\\\w\\\\w+\\\\b',\n",
      "                                 tokenizer=None, vocabulary=None)),\n",
      "                ('tfidf',\n",
      "                 TfidfTransformer(norm='l2', smooth_idf=True,\n",
      "                                  sublinear_tf=False, use_idf=True)),\n",
      "                ('clf_linearSVC',\n",
      "                 LinearSVC(C=1.0, class_weight=None, dual=True,\n",
      "                           fit_intercept=True, intercept_scaling=1,\n",
      "                           loss='squared_hinge', max_iter=1000,\n",
      "                           multi_class='ovr', penalty='l2', random_state=None,\n",
      "                           tol=0.0001, verbose=0))],\n",
      "         verbose=False)\n",
      "{'tfidf__use_idf': True, 'vect__ngram_range': (1, 2)}\n"
     ],
     "output_type": "stream"
    }
   ],
   "source": [
    "# Detailed performance analysis of Support Vector Machine Classifier\n",
    "for performance_analysis in (gs_clf_LinearSVC_pipe.best_score_, \n",
    "                             gs_clf_LinearSVC_pipe.best_estimator_, \n",
    "                             gs_clf_LinearSVC_pipe.best_params_):\n",
    "        print(performance_analysis)"
   ]
  },
  {
   "cell_type": "markdown",
   "metadata": {
    "hidden": true
   },
   "source": [
    "- The best mean score of the grid search is 93.65% which is very close to the accuracy level of 94.08%\n",
    "- The best estimator is also displayed\n",
    "- Lastly, the best parameters are true for use_idf in tfidf, and ngram_range between 1,2"
   ]
  },
  {
   "cell_type": "code",
   "execution_count": 85,
   "metadata": {
    "hidden": true,
    "pycharm": {
     "is_executing": false
    },
    "scrolled": true
   },
   "outputs": [
    {
     "name": "stdout",
     "text": [
      "              precision    recall  f1-score   support\n",
      "\n",
      "                   0.00      0.00      0.00         5\n",
      "    Negative       0.67      0.25      0.36       156\n",
      "     Neutral       0.47      0.11      0.18       292\n",
      "    Positive       0.95      1.00      0.97      6473\n",
      "\n",
      "    accuracy                           0.94      6926\n",
      "   macro avg       0.52      0.34      0.38      6926\n",
      "weighted avg       0.92      0.94      0.92      6926\n",
      "\n",
      "Accuracy: 0.9408027721628646\n"
     ],
     "output_type": "stream"
    }
   ],
   "source": [
    "# Displaying classification report and accuracy\n",
    "from sklearn.metrics import classification_report\n",
    "from sklearn.metrics import accuracy_score\n",
    "\n",
    "print(classification_report(X_test_targetSentiment, predictedGS_clf_LinearSVC_pipe))\n",
    "print('Accuracy: {}'. format(accuracy_score(X_test_targetSentiment, predictedGS_clf_LinearSVC_pipe)))"
   ]
  },
  {
   "cell_type": "markdown",
   "metadata": {
    "hidden": true
   },
   "source": [
    "Below is the summary of the classification report:\n",
    "- Precision: determines how many objects selected were correct\n",
    "- Recall: tells you how many of the objects that should have been selected were actually selected\n",
    "- F1 score measures the weights of recall and precision (1 means precision and recall are equally important, 0 otherwise)\n",
    "- Support is the number of occurrences of each class\n",
    "\n",
    "The results in this analysis confirms the previous data exploration analysis, where the data are very skewed to the positive reviews as shown by the lower support counts in the classification report. Also, both neutral and negative reviews has large standard deviation with small frequencies, which we would not consider significant as shown by the lower precision, recall and F1 scores in the classification report.\n",
    "\n",
    "However, despite that Neutral and Negative results are not very strong predictors in this data set, it still shows a 94.08% accuracy level in predicting the sentiment analysis, which was tested and worked very well when inputting arbitrary text. Also, as we continue to input new dataset in the future that is more balanced, this model will then re-adjust to a more balanced classifier which will increase the accuracy level.\n",
    "\n",
    "<u>Note</u>: The first row will be ignored as all NAN were previously replaced with \" \". When trying to remove the row during the import of the raw data, Pandas `DataFrame` did not accept the removal of the raw when attempting to remove all NAN values(before stratifying and splitting the dataset). As a result, replacing the NAN with \" \" was the best workaround and the first row will be ignored in this analysis.\n",
    "\n",
    "Finally, the overall result explains that the products in this dataset are positively rated."
   ]
  },
  {
   "cell_type": "code",
   "execution_count": 86,
   "metadata": {
    "hidden": true,
    "pycharm": {
     "is_executing": false
    },
    "scrolled": false
   },
   "outputs": [
    {
     "data": {
      "text/plain": "array([[   0,    0,    0,    5],\n       [   0,   39,   13,  104],\n       [   0,   14,   32,  246],\n       [   0,    5,   23, 6445]], dtype=int64)"
     },
     "metadata": {},
     "output_type": "execute_result",
     "execution_count": 86
    }
   ],
   "source": [
    "# Displaying confusion matrix to evaluate the accuracy of the classification\n",
    "from sklearn import metrics\n",
    "metrics.confusion_matrix(X_test_targetSentiment, predictedGS_clf_LinearSVC_pipe)"
   ]
  },
  {
   "cell_type": "markdown",
   "metadata": {
    "hidden": true
   },
   "source": [
    "<u>Note</u>: The first row and column will be ignored as we previously replaced all NAN with \" \". This is the same situation explained above in the classification report.\n",
    "\n",
    "By considering only row 2-4 and column 2-4 labeled as negative, neutral and positive, we see that positive sentiment can sometimes be confused for one another with neutral and negative ratings, with scores of 246 and 104 respectively. However, based on the overall number of significant positive sentiment at a score 6445, then confusion score of 246 and 104 for neutral and negative ratings respectively are considered insignificant.\n",
    "\n",
    "Also, this is a result of positively skewed dataset, which is consistent with both our data exploration and sentiment analysis. "
   ]
  },
  {
   "cell_type": "markdown",
   "source": [
    "# 7 Conclusion"
   ],
   "metadata": {
    "collapsed": false
   }
  },
  {
   "cell_type": "markdown",
   "metadata": {
    "hidden": true
   },
   "source": [
    "From the analysis above in the classification report, we can see that products with lower reviews are not significant enough to predict these lower rated products are inferior. On the other hand, products that are highly rated are considered superior products, which also performs well and should continue to sell at a high level.\n",
    "\n",
    "As a result, we need to input more data in order to consider the significance of lower rated product, in order to determine which products should be dropped from Amazon's product roster.\n",
    "\n",
    "The good news is that despite the skewed dataset, we were still able to build a robust Sentiment Analysis machine learning system to determine if the reviews are positive or negative. This is possible as the machine learning system was able to learn from all the positive, neutral and negative reviews, and fine tune the algorithm in order to avoid bias sentiments. \n",
    "\n",
    "In conclusion, although we need more data to balance out the lower rated products to consider their significance, however we were still able to successfully associate positive, neutral and negative sentiments for each product in Amazon's Catalog."
   ]
  }
 ],
 "metadata": {
  "kernelspec": {
   "display_name": "Python 3",
   "language": "python",
   "name": "python3"
  },
  "language_info": {
   "codemirror_mode": {
    "name": "ipython",
    "version": 3
   },
   "file_extension": ".py",
   "mimetype": "text/x-python",
   "name": "python",
   "nbconvert_exporter": "python",
   "pygments_lexer": "ipython3",
   "version": "3.7.7"
  },
  "pycharm": {
   "stem_cell": {
    "cell_type": "raw",
    "source": [],
    "metadata": {
     "collapsed": false
    }
   }
  },
  "toc": {
   "base_numbering": 1,
   "nav_menu": {},
   "number_sections": true,
   "sideBar": false,
   "skip_h1_title": false,
   "title_cell": "Table of Contents",
   "title_sidebar": "Contents",
   "toc_cell": false,
   "toc_position": {
    "height": "339px",
    "left": "1098px",
    "top": "216.141px",
    "width": "159px"
   },
   "toc_section_display": false,
   "toc_window_display": false
  }
 },
 "nbformat": 4,
 "nbformat_minor": 2
}